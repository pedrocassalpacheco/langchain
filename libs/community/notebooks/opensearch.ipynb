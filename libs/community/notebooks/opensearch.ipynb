{
 "cells": [
  {
   "cell_type": "code",
   "execution_count": 1,
   "metadata": {
    "ExecuteTime": {
     "end_time": "2024-11-03T19:41:38.571531Z",
     "start_time": "2024-11-03T19:41:38.548384Z"
    }
   },
   "outputs": [
    {
     "name": "stdout",
     "output_type": "stream",
     "text": [
      "Host: localhost, Port: 9201, Auth: ('admin', 'Supe5Senh@'), Index: opensearch_graphvector_notebook\n"
     ]
    }
   ],
   "source": [
    "import os\n",
    "from dotenv import load_dotenv\n",
    "\n",
    "# Load environment variables from .env file\n",
    "load_dotenv()\n",
    "\n",
    "# Access the variables\n",
    "host = os.getenv(\"OPENSEARCH_HOST\", \"localhost\")\n",
    "port = int(os.getenv(\"OPENSEARCH_PORT\", 9201))\n",
    "url = f\"http://{host}:{port}\"\n",
    "\n",
    "auth = (\n",
    "    os.getenv(\"OPENSEARCH_USER\", \"admin\"),\n",
    "    os.getenv(\"OPENSEARCH_PASSWORD\", \"admin\"),\n",
    ")\n",
    "index_name = os.getenv(\"OPENSEARCH_INDEX_NAME\", \"langchain\")\n",
    "\n",
    "print(f\"Host: {host}, Port: {port}, Auth: {auth}, Index: {index_name}\")\n"
   ]
  },
  {
   "cell_type": "code",
   "execution_count": 2,
   "metadata": {},
   "outputs": [],
   "source": [
    "import sys\n",
    "sys.path.append(\"/Users/pedropacheco/Projects/dev/langchain/libs/community\")\n"
   ]
  },
  {
   "cell_type": "code",
   "execution_count": 3,
   "metadata": {},
   "outputs": [],
   "source": [
    "from langchain_community.graph_vectorstores.content_graph import ContentGraph\n"
   ]
  },
  {
   "cell_type": "code",
   "execution_count": 4,
   "metadata": {},
   "outputs": [
    {
     "name": "stderr",
     "output_type": "stream",
     "text": [
      "INFO:langchain_community.graph_vectorstores.content_graph:Synchronously processing PDF document from 'sample10.pdf'...\n",
      "INFO:pikepdf._core:pikepdf C++ to Python logger bridge initialized\n",
      "INFO:unstructured_inference:Reading PDF for file: sample10.pdf ...\n",
      "INFO:unstructured_inference:Loading the Table agent ...\n",
      "INFO:unstructured_inference:Loading the table structure model ...\n",
      "INFO:timm.models._builder:Loading pretrained weights from Hugging Face hub (timm/resnet18.a1_in1k)\n",
      "INFO:timm.models._hub:[timm/resnet18.a1_in1k] Safe alternative available for 'pytorch_model.bin' (as 'model.safetensors'). Loading weights using safetensors.\n",
      "INFO:timm.models._builder:Missing keys (fc.weight, fc.bias) discovered while loading pretrained weights. This is expected if model is being adapted.\n"
     ]
    },
    {
     "data": {
      "text/plain": [
       "[Document(id='root', metadata={'file_date': datetime.datetime(2024, 11, 8, 16, 28, 51, 597270), 'links': [Link(kind='Title', direction='out', tag='a587eb4bb2db07115a3890531c896281'), Link(kind='Title', direction='out', tag='7cfe0d89c10c4f0aed70ae75fdeecbb2'), Link(kind='Title', direction='out', tag='09f5af3237057d3c83c4ac9432a8bd65'), Link(kind='Title', direction='out', tag='af55be232f6114fa7840d14941c92600'), Link(kind='Title', direction='out', tag='1c9c79a725133bd8fd1c9345acf2a5ce'), Link(kind='Title', direction='out', tag='ab95516f1227f26842c62074ff1a5171'), Link(kind='Title', direction='out', tag='dd50a2eeaad19e27a3b09c7c2f85b197'), Link(kind='Title', direction='out', tag='43a339c7e27d89a8db8800226eca0d93'), Link(kind='Title', direction='out', tag='d0ee92a476a42f097c3fd1a2d87660fc')]}, page_content='sample10.pdf'),\n",
       " Document(id='a587eb4bb2db07115a3890531c896281', metadata={'type': 'Title', 'links': [Link(kind='root', direction='in', tag='root')], 'detection_class_prob': 0.4106774628162384, 'coordinates': {'points': ((201.42143035744004, 180.75514221191406), (201.42143035744004, 429.74481201171875), (1451.3402869831261, 429.74481201171875), (1451.3402869831261, 180.75514221191406)), 'system': 'PixelSpace', 'layout_width': 1653, 'layout_height': 2339}, 'last_modified': '2024-11-08T16:28:51', 'filetype': 'application/pdf', 'languages': ['eng'], 'page_number': 1, 'filename': 'sample10.pdf'}, page_content='The Essence of Placeholder Text in Design'),\n",
       " Document(id='7cfe0d89c10c4f0aed70ae75fdeecbb2', metadata={'type': 'Title', 'links': [Link(kind='root', direction='in', tag='root'), Link(kind='NarrativeText', direction='out', tag='7be4d084ed1d8d2f0f0136130d96657d'), Link(kind='NarrativeText', direction='out', tag='0cf4c4a72b187a3e8b9441d670668220'), Link(kind='NarrativeText', direction='out', tag='37bd4b148b92576880338619f547f56d'), Link(kind='NarrativeText', direction='out', tag='9bdca855f20835cd8a463e2645f269e9'), Link(kind='NarrativeText', direction='out', tag='5c8aa95465fc1db19445d8d1e93b269e')], 'detection_class_prob': 0.6099551916122437, 'coordinates': {'points': ((325.00848388671875, 493.61412962310186), (325.00848388671875, 568.5733032226562), (1335.915283203125, 568.5733032226562), (1335.915283203125, 493.61412962310186)), 'system': 'PixelSpace', 'layout_width': 1653, 'layout_height': 2339}, 'last_modified': '2024-11-08T16:28:51', 'filetype': 'application/pdf', 'languages': ['eng'], 'page_number': 1, 'filename': 'sample10.pdf'}, page_content='Understanding Placeholder Text'),\n",
       " Document(id='7be4d084ed1d8d2f0f0136130d96657d', metadata={'type': 'NarrativeText', 'links': [Link(kind='NarrativeText', direction='in', tag='7cfe0d89c10c4f0aed70ae75fdeecbb2')], 'detection_class_prob': 0.5615547299385071, 'coordinates': {'points': ((157.9318488361727, 610.8533793811081), (157.9318488361727, 703.3484497070312), (1494.8580568809132, 703.3484497070312), (1494.8580568809132, 610.8533793811081)), 'system': 'PixelSpace', 'layout_width': 1653, 'layout_height': 2339}, 'last_modified': '2024-11-08T16:28:51', 'filetype': 'application/pdf', 'languages': ['eng'], 'page_number': 1, 'parent_id': '7cfe0d89c10c4f0aed70ae75fdeecbb2', 'filename': 'sample10.pdf'}, page_content='Placeholder text is commonly used in design and development to visualize content layout without needing actual content. It allows designers to focus on the structure and style of a page before the real text is available. Placeholder text can'),\n",
       " Document(id='0cf4c4a72b187a3e8b9441d670668220', metadata={'type': 'NarrativeText', 'links': [Link(kind='NarrativeText', direction='in', tag='7cfe0d89c10c4f0aed70ae75fdeecbb2')], 'detection_class_prob': 0.2683192491531372, 'coordinates': {'points': ((444.04888916015625, 702.5200422283303), (444.04888916015625, 727.5200411866637), (1201.1529541015625, 727.5200411866637), (1201.1529541015625, 702.5200422283303)), 'system': 'PixelSpace', 'layout_width': 1653, 'layout_height': 2339}, 'last_modified': '2024-11-08T16:28:51', 'filetype': 'application/pdf', 'languages': ['eng'], 'page_number': 1, 'parent_id': '7cfe0d89c10c4f0aed70ae75fdeecbb2', 'filename': 'sample10.pdf'}, page_content='provide insights into how text will flow in various parts of a design.'),\n",
       " Document(id='37bd4b148b92576880338619f547f56d', metadata={'type': 'NarrativeText', 'links': [Link(kind='NarrativeText', direction='in', tag='7cfe0d89c10c4f0aed70ae75fdeecbb2')], 'detection_class_prob': 0.8328621983528137, 'coordinates': {'points': ((172.51518156186714, 781.686705596386), (172.51518156186714, 875.0081176757812), (1484.12060546875, 875.0081176757812), (1484.12060546875, 781.686705596386)), 'system': 'PixelSpace', 'layout_width': 1653, 'layout_height': 2339}, 'last_modified': '2024-11-08T16:28:51', 'filetype': 'application/pdf', 'languages': ['eng'], 'page_number': 1, 'parent_id': '7cfe0d89c10c4f0aed70ae75fdeecbb2', 'filename': 'sample10.pdf'}, page_content='Using placeholder text helps in creating a balanced layout that aligns with the overall user experience. Designers often employ it to simulate the visual impact of content in headers, body paragraphs, and footers, ensuring that each section'),\n",
       " Document(id='9bdca855f20835cd8a463e2645f269e9', metadata={'type': 'NarrativeText', 'links': [Link(kind='NarrativeText', direction='in', tag='7cfe0d89c10c4f0aed70ae75fdeecbb2')], 'coordinates': {'points': ((674.4357335651765, 873.3533684436082), (674.4357335651765, 898.3533674019415), (978.3297629029249, 898.3533674019415), (978.3297629029249, 873.3533684436082)), 'system': 'PixelSpace', 'layout_width': 1653, 'layout_height': 2339}, 'last_modified': '2024-11-08T16:28:51', 'filetype': 'application/pdf', 'languages': ['eng'], 'page_number': 1, 'parent_id': '7cfe0d89c10c4f0aed70ae75fdeecbb2', 'filename': 'sample10.pdf'}, page_content='achieves the desired effect.'),\n",
       " Document(id='5c8aa95465fc1db19445d8d1e93b269e', metadata={'type': 'NarrativeText', 'links': [Link(kind='NarrativeText', direction='in', tag='7cfe0d89c10c4f0aed70ae75fdeecbb2')], 'detection_class_prob': 0.5451501607894897, 'coordinates': {'points': ((187.8472121730325, 950.436698565136), (187.8472121730325, 1021.2700289470804), (1464.94676221055, 1021.2700289470804), (1464.94676221055, 950.436698565136)), 'system': 'PixelSpace', 'layout_width': 1653, 'layout_height': 2339}, 'last_modified': '2024-11-08T16:28:51', 'filetype': 'application/pdf', 'languages': ['eng'], 'page_number': 1, 'parent_id': '7cfe0d89c10c4f0aed70ae75fdeecbb2', 'filename': 'sample10.pdf'}, page_content='This approach allows for an uninterrupted design process, making it easier to see where adjustments are needed. It provides a practical solution for iterating quickly on layouts, especially in early development stages.'),\n",
       " Document(id='09f5af3237057d3c83c4ac9432a8bd65', metadata={'type': 'Title', 'links': [Link(kind='root', direction='in', tag='root'), Link(kind='NarrativeText', direction='out', tag='1d3f374f8e8037c23d63c171bb53858b'), Link(kind='ListItem', direction='out', tag='f686f97fe0738594ef89fe3d75b89e5a'), Link(kind='NarrativeText', direction='out', tag='d2524ec0a9c23881dd42d90d099ef6e4')], 'detection_class_prob': 0.7727823853492737, 'coordinates': {'points': ((165.8494415283203, 1085.2807716369907), (165.8494415283203, 1155.9474311925464), (1486.842529296875, 1155.9474311925464), (1486.842529296875, 1085.2807716369907)), 'system': 'PixelSpace', 'layout_width': 1653, 'layout_height': 2339}, 'last_modified': '2024-11-08T16:28:51', 'filetype': 'application/pdf', 'languages': ['eng'], 'page_number': 1, 'filename': 'sample10.pdf'}, page_content='Historical Background of Placeholder Text'),\n",
       " Document(id='1d3f374f8e8037c23d63c171bb53858b', metadata={'type': 'NarrativeText', 'links': [Link(kind='NarrativeText', direction='in', tag='09f5af3237057d3c83c4ac9432a8bd65')], 'detection_class_prob': 0.686560869216919, 'coordinates': {'points': ((166.33028598623778, 1202.520021394997), (166.33028598623778, 1320.0970458984375), (1486.4718264803391, 1320.0970458984375), (1486.4718264803391, 1202.520021394997)), 'system': 'PixelSpace', 'layout_width': 1653, 'layout_height': 2339}, 'last_modified': '2024-11-08T16:28:51', 'filetype': 'application/pdf', 'languages': ['eng'], 'page_number': 1, 'parent_id': '09f5af3237057d3c83c4ac9432a8bd65', 'filename': 'sample10.pdf'}, page_content='The practice of using placeholder text dates back centuries, originating from typesetting. Printers needed dummy text to arrange type in their printing layouts without using meaningful content. This tradition evolved, and placeholder text became essential in the modern digital world.'),\n",
       " Document(id='f686f97fe0738594ef89fe3d75b89e5a', metadata={'type': 'ListItem', 'links': [Link(kind='ListItem', direction='in', tag='09f5af3237057d3c83c4ac9432a8bd65')], 'detection_class_prob': 0.590812623500824, 'coordinates': {'points': ((166.55815056007677, 1373.3533476102748), (166.55815056007677, 1444.186677992219), (1486.211411491189, 1444.186677992219), (1486.211411491189, 1373.3533476102748)), 'system': 'PixelSpace', 'layout_width': 1653, 'layout_height': 2339}, 'last_modified': '2024-11-08T16:28:51', 'filetype': 'application/pdf', 'languages': ['eng'], 'page_number': 1, 'parent_id': '09f5af3237057d3c83c4ac9432a8bd65', 'filename': 'sample10.pdf'}, page_content='Historically, designers would use random or pseudo-Latin text to fill spaces, avoiding distractions that real content might cause. This approach allowed them to refine the typography and spatial aspects of their designs.'),\n",
       " Document(id='d2524ec0a9c23881dd42d90d099ef6e4', metadata={'type': 'NarrativeText', 'links': [Link(kind='NarrativeText', direction='in', tag='09f5af3237057d3c83c4ac9432a8bd65')], 'detection_class_prob': 0.5715670585632324, 'coordinates': {'points': ((158.84330713152858, 1496.2700091554134), (158.84330713152858, 1567.1033395373581), (1493.9262525030715, 1567.1033395373581), (1493.9262525030715, 1496.2700091554134)), 'system': 'PixelSpace', 'layout_width': 1653, 'layout_height': 2339}, 'last_modified': '2024-11-08T16:28:51', 'filetype': 'application/pdf', 'languages': ['eng'], 'page_number': 1, 'parent_id': '09f5af3237057d3c83c4ac9432a8bd65', 'filename': 'sample10.pdf'}, page_content='Today, placeholder text continues to serve as a key tool in web and graphic design, enabling a content-neutral canvas for layout experimentation. Its timeless utility is a testament to its effectiveness across evolving design practices.'),\n",
       " Document(id='af55be232f6114fa7840d14941c92600', metadata={'type': 'Title', 'links': [Link(kind='root', direction='in', tag='root'), Link(kind='NarrativeText', direction='out', tag='5ae5ed1dfcafbd54c90191a3a2bcaa76'), Link(kind='NarrativeText', direction='out', tag='1ebda6ab90b083768bbaa6e253a6b8d3'), Link(kind='NarrativeText', direction='out', tag='57fdd79928c738894790c3a902fbd25f')], 'detection_class_prob': 0.8104435205459595, 'coordinates': {'points': ((214.80419921875, 1631.1140822272685), (214.80419921875, 1701.780741782824), (1438.51953125, 1701.780741782824), (1438.51953125, 1631.1140822272685)), 'system': 'PixelSpace', 'layout_width': 1653, 'layout_height': 2339}, 'last_modified': '2024-11-08T16:28:51', 'filetype': 'application/pdf', 'languages': ['eng'], 'page_number': 1, 'filename': 'sample10.pdf'}, page_content='Advantages of Using Placeholder Text'),\n",
       " Document(id='5ae5ed1dfcafbd54c90191a3a2bcaa76', metadata={'type': 'NarrativeText', 'links': [Link(kind='NarrativeText', direction='in', tag='af55be232f6114fa7840d14941c92600')], 'detection_class_prob': 0.8341466784477234, 'coordinates': {'points': ((179.0581500392434, 1748.3533319852747), (179.0581500392434, 1820.962158203125), (1473.7480330938297, 1820.962158203125), (1473.7480330938297, 1748.3533319852747)), 'system': 'PixelSpace', 'layout_width': 1653, 'layout_height': 2339}, 'last_modified': '2024-11-08T16:28:51', 'filetype': 'application/pdf', 'languages': ['eng'], 'page_number': 1, 'parent_id': 'af55be232f6114fa7840d14941c92600', 'filename': 'sample10.pdf'}, page_content='Using placeholder text offers multiple benefits in design workflows. One key advantage is that it prevents readers and stakeholders from focusing too much on the content, allowing them to evaluate the layout and overall visual design.'),\n",
       " Document(id='1ebda6ab90b083768bbaa6e253a6b8d3', metadata={'type': 'NarrativeText', 'links': [Link(kind='NarrativeText', direction='in', tag='af55be232f6114fa7840d14941c92600')], 'detection_class_prob': 0.35262352228164673, 'coordinates': {'points': ((164.18184857575602, 1873.3533267769412), (164.18184857575602, 1944.1866571588857), (1488.620263890821, 1944.1866571588857), (1488.620263890821, 1873.3533267769412)), 'system': 'PixelSpace', 'layout_width': 1653, 'layout_height': 2339}, 'last_modified': '2024-11-08T16:28:51', 'filetype': 'application/pdf', 'languages': ['eng'], 'page_number': 1, 'parent_id': 'af55be232f6114fa7840d14941c92600', 'filename': 'sample10.pdf'}, page_content='Another benefit is that it supports rapid prototyping. Placeholder text can be easily swapped out when the actual content becomes available, making it convenient for quick iterations in agile design environments.'),\n",
       " Document(id='57fdd79928c738894790c3a902fbd25f', metadata={'type': 'NarrativeText', 'links': [Link(kind='NarrativeText', direction='in', tag='af55be232f6114fa7840d14941c92600')], 'detection_class_prob': 0.8822842836380005, 'coordinates': {'points': ((187.35893094337754, 1996.2699883220803), (187.35893094337754, 2067.103318704025), (1465.398422608397, 2067.103318704025), (1465.398422608397, 1996.2699883220803)), 'system': 'PixelSpace', 'layout_width': 1653, 'layout_height': 2339}, 'last_modified': '2024-11-08T16:28:51', 'filetype': 'application/pdf', 'languages': ['eng'], 'page_number': 1, 'parent_id': 'af55be232f6114fa7840d14941c92600', 'filename': 'sample10.pdf'}, page_content='Lastly, placeholder text is a flexible tool that adapts to various design needs. Whether you’re creating a new website layout or a mobile app interface, placeholder text can provide the space for creativity without content constraints.'),\n",
       " Document(id='1c9c79a725133bd8fd1c9345acf2a5ce', metadata={'type': 'Title', 'links': [Link(kind='root', direction='in', tag='root'), Link(kind='NarrativeText', direction='out', tag='8bb08bf5438d4aa17e047133ad2a4d4d'), Link(kind='NarrativeText', direction='out', tag='075c0b9e6466940817c3620a2aa51c18'), Link(kind='NarrativeText', direction='out', tag='e352c457d9ffbce0c5eff0907a4f07f7'), Link(kind='ListItem', direction='out', tag='167904770434e7bee5e9315a12b4ec8e'), Link(kind='NarrativeText', direction='out', tag='e2f8361e9188b2db54eee5c16c27f1ac'), Link(kind='NarrativeText', direction='out', tag='d7ae8a934c4792142b39737daedaf0f6')], 'detection_class_prob': 0.8331170082092285, 'coordinates': {'points': ((247.2473907470703, 174.8641229043525), (247.2473907470703, 245.53078245990824), (1414.6341552734375, 245.53078245990824), (1414.6341552734375, 174.8641229043525)), 'system': 'PixelSpace', 'layout_width': 1653, 'layout_height': 2339}, 'last_modified': '2024-11-08T16:28:51', 'filetype': 'application/pdf', 'languages': ['eng'], 'page_number': 2, 'filename': 'sample10.pdf'}, page_content='Primary Benefits of Placeholder Text'),\n",
       " Document(id='8bb08bf5438d4aa17e047133ad2a4d4d', metadata={'type': 'NarrativeText', 'links': [Link(kind='NarrativeText', direction='in', tag='1c9c79a725133bd8fd1c9345acf2a5ce')], 'detection_class_prob': 0.8304687738418579, 'coordinates': {'points': ((211.80554450810192, 292.10337266235877), (211.80554450810192, 408.7700344679143), (1496.461258397445, 408.7700344679143), (1496.461258397445, 292.10337266235877)), 'system': 'PixelSpace', 'layout_width': 1653, 'layout_height': 2339}, 'last_modified': '2024-11-08T16:28:51', 'filetype': 'application/pdf', 'languages': ['eng'], 'page_number': 2, 'parent_id': '1c9c79a725133bd8fd1c9345acf2a5ce', 'filename': 'sample10.pdf'}, page_content='1. Maintaining Design FocusUsing placeholder text keeps attention on the design elements rather than the content itself. This helps designers ensure that each section is visually appealing and correctly proportioned. The neutral nature of placeholder text makes it ideal for concentrating on color, spacing, and font styles.'),\n",
       " Document(id='075c0b9e6466940817c3620a2aa51c18', metadata={'type': 'NarrativeText', 'links': [Link(kind='NarrativeText', direction='in', tag='1c9c79a725133bd8fd1c9345acf2a5ce')], 'detection_class_prob': 0.7406359910964966, 'coordinates': {'points': ((232.3173065185547, 462.9366988776367), (232.3173065185547, 533.8049926757812), (1400.475830078125, 533.8049926757812), (1400.475830078125, 462.9366988776367)), 'system': 'PixelSpace', 'layout_width': 1653, 'layout_height': 2339}, 'last_modified': '2024-11-08T16:28:51', 'filetype': 'application/pdf', 'languages': ['eng'], 'page_number': 2, 'parent_id': '1c9c79a725133bd8fd1c9345acf2a5ce', 'filename': 'sample10.pdf'}, page_content='Designers can rely on placeholder text to test multiple design variations quickly. By keeping the focus on aesthetics, they are able to create a cohesive visual experience without the distraction of actual content.'),\n",
       " Document(id='e352c457d9ffbce0c5eff0907a4f07f7', metadata={'type': 'NarrativeText', 'links': [Link(kind='NarrativeText', direction='in', tag='1c9c79a725133bd8fd1c9345acf2a5ce')], 'detection_class_prob': 0.8798333406448364, 'coordinates': {'points': ((233.86749267578125, 585.8533604227754), (233.86749267578125, 656.6866908047198), (1468.7840576171875, 656.6866908047198), (1468.7840576171875, 585.8533604227754)), 'system': 'PixelSpace', 'layout_width': 1653, 'layout_height': 2339}, 'last_modified': '2024-11-08T16:28:51', 'filetype': 'application/pdf', 'languages': ['eng'], 'page_number': 2, 'parent_id': '1c9c79a725133bd8fd1c9345acf2a5ce', 'filename': 'sample10.pdf'}, page_content='Placeholder text supports iterative design adjustments, enabling quick changes and refinements. This flexibility aids in aligning design elements with overall brand aesthetics and functionality requirements.'),\n",
       " Document(id='167904770434e7bee5e9315a12b4ec8e', metadata={'type': 'ListItem', 'links': [Link(kind='ListItem', direction='in', tag='1c9c79a725133bd8fd1c9345acf2a5ce')], 'detection_class_prob': 0.8176718354225159, 'coordinates': {'points': ((211.80554450810192, 710.8533552144422), (211.80554450810192, 828.3204345703125), (1482.6510263895386, 828.3204345703125), (1482.6510263895386, 710.8533552144422)), 'system': 'PixelSpace', 'layout_width': 1653, 'layout_height': 2339}, 'last_modified': '2024-11-08T16:28:51', 'filetype': 'application/pdf', 'languages': ['eng'], 'page_number': 2, 'parent_id': '1c9c79a725133bd8fd1c9345acf2a5ce', 'filename': 'sample10.pdf'}, page_content='2. Efficient Collaboration with Stakeholders Placeholder text can facilitate communication with clients and stakeholders who may not yet have finalized content. It provides a realistic representation of how the final design will look, which can be crucial for receiving early feedback on layout and style.'),\n",
       " Document(id='e2f8361e9188b2db54eee5c16c27f1ac', metadata={'type': 'NarrativeText', 'links': [Link(kind='NarrativeText', direction='in', tag='1c9c79a725133bd8fd1c9345acf2a5ce')], 'detection_class_prob': 0.863664448261261, 'coordinates': {'points': ((234.63546752929688, 879.603348183192), (234.63546752929688, 998.3463134765625), (1490.9518067936724, 998.3463134765625), (1490.9518067936724, 879.603348183192)), 'system': 'PixelSpace', 'layout_width': 1653, 'layout_height': 2339}, 'last_modified': '2024-11-08T16:28:51', 'filetype': 'application/pdf', 'languages': ['eng'], 'page_number': 2, 'parent_id': '1c9c79a725133bd8fd1c9345acf2a5ce', 'filename': 'sample10.pdf'}, page_content='It allows clients to see the design in its intended form, helping them focus on visual aspects rather than prematurely evaluating the written content. This approach promotes constructive feedback and ensures smoother design approvals.'),\n",
       " Document(id='d7ae8a934c4792142b39737daedaf0f6', metadata={'type': 'NarrativeText', 'links': [Link(kind='NarrativeText', direction='in', tag='1c9c79a725133bd8fd1c9345acf2a5ce')], 'detection_class_prob': 0.9283442497253418, 'coordinates': {'points': ((234.34771728515625, 1050.4366743984697), (234.34771728515625, 1167.1033362040257), (1454.8189965492068, 1167.1033362040257), (1454.8189965492068, 1050.4366743984697)), 'system': 'PixelSpace', 'layout_width': 1653, 'layout_height': 2339}, 'last_modified': '2024-11-08T16:28:51', 'filetype': 'application/pdf', 'languages': ['eng'], 'page_number': 2, 'parent_id': '1c9c79a725133bd8fd1c9345acf2a5ce', 'filename': 'sample10.pdf'}, page_content='Placeholder text is an adaptable tool, meeting the needs of various stakeholders while keeping the design workflow streamlined. This adaptability supports a collaborative environment focused on achieving the desired visual impact.'),\n",
       " Document(id='ab95516f1227f26842c62074ff1a5171', metadata={'type': 'Title', 'links': [Link(kind='root', direction='in', tag='root'), Link(kind='NarrativeText', direction='out', tag='b59d0a8414ba0ade38baa4e50aa9f30b'), Link(kind='NarrativeText', direction='out', tag='f83f83705f648b1785c42410487bfbef'), Link(kind='NarrativeText', direction='out', tag='83eab554b8f92b031e15f802a7d85f1c'), Link(kind='NarrativeText', direction='out', tag='d6641b68a0633565c9b2d4b9b32fffec')], 'detection_class_prob': 0.8044255375862122, 'coordinates': {'points': ((276.74694805221, 1231.1140788939356), (276.74694805221, 1302.1279296875), (1376.0672507065606, 1302.1279296875), (1376.0672507065606, 1231.1140788939356)), 'system': 'PixelSpace', 'layout_width': 1653, 'layout_height': 2339}, 'last_modified': '2024-11-08T16:28:51', 'filetype': 'application/pdf', 'languages': ['eng'], 'page_number': 2, 'filename': 'sample10.pdf'}, page_content='Examples in Modern Digital Design'),\n",
       " Document(id='b59d0a8414ba0ade38baa4e50aa9f30b', metadata={'type': 'NarrativeText', 'links': [Link(kind='NarrativeText', direction='in', tag='ab95516f1227f26842c62074ff1a5171')], 'detection_class_prob': 0.7628518342971802, 'coordinates': {'points': ((164.44226523157198, 1348.353328651942), (164.44226523157198, 1434.464111328125), (1488.3191573200327, 1434.464111328125), (1488.3191573200327, 1348.353328651942)), 'system': 'PixelSpace', 'layout_width': 1653, 'layout_height': 2339}, 'last_modified': '2024-11-08T16:28:51', 'filetype': 'application/pdf', 'languages': ['eng'], 'page_number': 2, 'parent_id': 'ab95516f1227f26842c62074ff1a5171', 'filename': 'sample10.pdf'}, page_content='In today’s digital landscape, placeholder text is prevalent across websites, apps, and software interfaces. Designers use it to create prototypes, mockups, and wireframes that showcase the layout without requiring finished content. This is'),\n",
       " Document(id='f83f83705f648b1785c42410487bfbef', metadata={'type': 'NarrativeText', 'links': [Link(kind='NarrativeText', direction='in', tag='ab95516f1227f26842c62074ff1a5171')], 'detection_class_prob': 0.2989083230495453, 'coordinates': {'points': ((360.9703674316406, 1440.0199914991642), (360.9703674316406, 1465.0199904574974), (1288.453444647771, 1465.0199904574974), (1288.453444647771, 1440.0199914991642)), 'system': 'PixelSpace', 'layout_width': 1653, 'layout_height': 2339}, 'last_modified': '2024-11-08T16:28:51', 'filetype': 'application/pdf', 'languages': ['eng'], 'page_number': 2, 'parent_id': 'ab95516f1227f26842c62074ff1a5171', 'filename': 'sample10.pdf'}, page_content='especially useful in fast-paced projects where content may not be ready at the start.'),\n",
       " Document(id='83eab554b8f92b031e15f802a7d85f1c', metadata={'type': 'NarrativeText', 'links': [Link(kind='NarrativeText', direction='in', tag='ab95516f1227f26842c62074ff1a5171')], 'detection_class_prob': 0.8810776472091675, 'coordinates': {'points': ((164.89799437924992, 1519.1866548672199), (164.89799437924992, 1590.78564453125), (1487.8837732548411, 1590.78564453125), (1487.8837732548411, 1519.1866548672199)), 'system': 'PixelSpace', 'layout_width': 1653, 'layout_height': 2339}, 'last_modified': '2024-11-08T16:28:51', 'filetype': 'application/pdf', 'languages': ['eng'], 'page_number': 2, 'parent_id': 'ab95516f1227f26842c62074ff1a5171', 'filename': 'sample10.pdf'}, page_content='Web developers often use placeholder text within content management systems to visualize article layouts, headlines, and body text. This allows them to ensure each element aligns with the overall aesthetic and functional goals of the site.'),\n",
       " Document(id='d6641b68a0633565c9b2d4b9b32fffec', metadata={'type': 'NarrativeText', 'links': [Link(kind='NarrativeText', direction='in', tag='ab95516f1227f26842c62074ff1a5171')], 'detection_class_prob': 0.7251653075218201, 'coordinates': {'points': ((173.4732208251953, 1641.9813232421875), (173.4732208251953, 1758.7699782179145), (1477.4223481907338, 1758.7699782179145), (1477.4223481907338, 1641.9813232421875)), 'system': 'PixelSpace', 'layout_width': 1653, 'layout_height': 2339}, 'last_modified': '2024-11-08T16:28:51', 'filetype': 'application/pdf', 'languages': ['eng'], 'page_number': 2, 'parent_id': 'ab95516f1227f26842c62074ff1a5171', 'filename': 'sample10.pdf'}, page_content='For user interface (UI) and user experience (UX) designers, placeholder text helps in arranging interactive elements, ensuring that buttons, links, and text fields are correctly positioned and visually balanced. This practice is a key part of responsive design workflows.'),\n",
       " Document(id='dd50a2eeaad19e27a3b09c7c2f85b197', metadata={'type': 'Title', 'links': [Link(kind='root', direction='in', tag='root'), Link(kind='NarrativeText', direction='out', tag='4c004820d67a5aa32ba2b60de47048f3'), Link(kind='NarrativeText', direction='out', tag='9e82e720bfd10b187dcaa331f6763bb6'), Link(kind='NarrativeText', direction='out', tag='a4ec230296f2baa80cdd7dc2b560f477')], 'detection_class_prob': 0.7599439024925232, 'coordinates': {'points': ((158.25736965594263, 1822.7807209078244), (158.25736965594263, 1893.44738046338), (1494.5203160656843, 1893.44738046338), (1494.5203160656843, 1822.7807209078244)), 'system': 'PixelSpace', 'layout_width': 1653, 'layout_height': 2339}, 'last_modified': '2024-11-08T16:28:51', 'filetype': 'application/pdf', 'languages': ['eng'], 'page_number': 2, 'filename': 'sample10.pdf'}, page_content='Alternatives to Traditional Placeholder Text'),\n",
       " Document(id='4c004820d67a5aa32ba2b60de47048f3', metadata={'type': 'NarrativeText', 'links': [Link(kind='NarrativeText', direction='in', tag='dd50a2eeaad19e27a3b09c7c2f85b197')], 'detection_class_prob': 0.6794689297676086, 'coordinates': {'points': ((165.61414018274388, 1940.0199706658307), (165.61414018274388, 2057.458740234375), (1487.1350751193704, 2057.458740234375), (1487.1350751193704, 1940.0199706658307)), 'system': 'PixelSpace', 'layout_width': 1653, 'layout_height': 2339}, 'last_modified': '2024-11-08T16:28:51', 'filetype': 'application/pdf', 'languages': ['eng'], 'page_number': 2, 'parent_id': 'dd50a2eeaad19e27a3b09c7c2f85b197', 'filename': 'sample10.pdf'}, page_content='In recent years, various alternatives to traditional placeholder text have emerged. Designers sometimes use real data to simulate how final content will appear, providing a more accurate representation of the end product. This approach is useful when the design requires context-specific adjustments.'),\n",
       " Document(id='9e82e720bfd10b187dcaa331f6763bb6', metadata={'type': 'NarrativeText', 'links': [Link(kind='NarrativeText', direction='in', tag='dd50a2eeaad19e27a3b09c7c2f85b197')], 'detection_class_prob': 0.8956119418144226, 'coordinates': {'points': ((176.19356682526774, 167.1035112040196), (176.19356682526774, 238.6075439453125), (1476.5841314339923, 238.6075439453125), (1476.5841314339923, 167.1035112040196)), 'system': 'PixelSpace', 'layout_width': 1653, 'layout_height': 2339}, 'last_modified': '2024-11-08T16:28:51', 'filetype': 'application/pdf', 'languages': ['eng'], 'page_number': 3, 'parent_id': 'dd50a2eeaad19e27a3b09c7c2f85b197', 'filename': 'sample10.pdf'}, page_content='Another alternative is to use localized placeholder text for international projects. This allows designers to see how different languages impact layout and design, accounting for text expansion or contraction due to language variations.'),\n",
       " Document(id='a4ec230296f2baa80cdd7dc2b560f477', metadata={'type': 'NarrativeText', 'links': [Link(kind='NarrativeText', direction='in', tag='dd50a2eeaad19e27a3b09c7c2f85b197')], 'detection_class_prob': 0.8314231634140015, 'coordinates': {'points': ((172.05945241418917, 292.1035059956864), (172.05945241418917, 408.7701678012419), (1482.322265625, 408.7701678012419), (1482.322265625, 292.1035059956864)), 'system': 'PixelSpace', 'layout_width': 1653, 'layout_height': 2339}, 'last_modified': '2024-11-08T16:28:51', 'filetype': 'application/pdf', 'languages': ['eng'], 'page_number': 3, 'parent_id': 'dd50a2eeaad19e27a3b09c7c2f85b197', 'filename': 'sample10.pdf'}, page_content='Using visual elements like icons or patterns as placeholders is another modern trend. These alternatives maintain the focus on layout and design but offer a fresh approach, especially for audiences who may be distracted by conventional filler text.'),\n",
       " Document(id='43a339c7e27d89a8db8800226eca0d93', metadata={'type': 'Title', 'links': [Link(kind='root', direction='in', tag='root'), Link(kind='NarrativeText', direction='out', tag='779ff8635a73d15280938bdfb6224ddf'), Link(kind='ListItem', direction='out', tag='409d2a8198d59a929ef175bc0023ce7f'), Link(kind='NarrativeText', direction='out', tag='36fb7c10d1a3e44958c86b78a923e2ec')], 'detection_class_prob': 0.7725075483322144, 'coordinates': {'points': ((257.0529384561271, 472.78091049115227), (257.0529384561271, 543.4475700467079), (1409.7528076171875, 543.4475700467079), (1409.7528076171875, 472.78091049115227)), 'system': 'PixelSpace', 'layout_width': 1653, 'layout_height': 2339}, 'last_modified': '2024-11-08T16:28:51', 'filetype': 'application/pdf', 'languages': ['eng'], 'page_number': 3, 'filename': 'sample10.pdf'}, page_content='Future of Placeholder Text in Design'),\n",
       " Document(id='779ff8635a73d15280938bdfb6224ddf', metadata={'type': 'NarrativeText', 'links': [Link(kind='NarrativeText', direction='in', tag='43a339c7e27d89a8db8800226eca0d93')], 'detection_class_prob': 0.8083930611610413, 'coordinates': {'points': ((184.36413940149387, 590.0201602491582), (184.36413940149387, 706.8250732421875), (1468.4094903996029, 706.8250732421875), (1468.4094903996029, 590.0201602491582)), 'system': 'PixelSpace', 'layout_width': 1653, 'layout_height': 2339}, 'last_modified': '2024-11-08T16:28:51', 'filetype': 'application/pdf', 'languages': ['eng'], 'page_number': 3, 'parent_id': '43a339c7e27d89a8db8800226eca0d93', 'filename': 'sample10.pdf'}, page_content='As design practices evolve, so does the use of placeholder text. With advancements in AI, some tools now generate contextually relevant placeholder content, allowing designers to simulate real-world scenarios. This can enhance the design process, especially when testing dynamic or data-driven layouts.'),\n",
       " Document(id='409d2a8198d59a929ef175bc0023ce7f', metadata={'type': 'ListItem', 'links': [Link(kind='ListItem', direction='in', tag='43a339c7e27d89a8db8800226eca0d93')], 'detection_class_prob': 0.45542001724243164, 'coordinates': {'points': ((159.33158836118355, 758.7701532179084), (159.33158836118355, 829.6034835998528), (1493.413558024433, 829.6034835998528), (1493.413558024433, 758.7701532179084)), 'system': 'PixelSpace', 'layout_width': 1653, 'layout_height': 2339}, 'last_modified': '2024-11-08T16:28:51', 'filetype': 'application/pdf', 'languages': ['eng'], 'page_number': 3, 'parent_id': '43a339c7e27d89a8db8800226eca0d93', 'filename': 'sample10.pdf'}, page_content='The future of placeholder text may also include more interactive elements, allowing clients to toggle between placeholder and actual content. This could make client feedback sessions more dynamic and informative.'),\n",
       " Document(id='36fb7c10d1a3e44958c86b78a923e2ec', metadata={'type': 'NarrativeText', 'links': [Link(kind='NarrativeText', direction='in', tag='43a339c7e27d89a8db8800226eca0d93')], 'detection_class_prob': 0.43521660566329956, 'coordinates': {'points': ((157.47611968849472, 883.7701480095751), (157.47611968849472, 954.6034783915195), (1495.305646362262, 954.6034783915195), (1495.305646362262, 883.7701480095751)), 'system': 'PixelSpace', 'layout_width': 1653, 'layout_height': 2339}, 'last_modified': '2024-11-08T16:28:51', 'filetype': 'application/pdf', 'languages': ['eng'], 'page_number': 3, 'parent_id': '43a339c7e27d89a8db8800226eca0d93', 'filename': 'sample10.pdf'}, page_content='Innovations in placeholder text continue to support modern design workflows, offering tools that are adaptive, responsive, and increasingly realistic. This evolution reflects the growing complexity of digital design requirements.'),\n",
       " Document(id='d0ee92a476a42f097c3fd1a2d87660fc', metadata={'type': 'Title', 'links': [Link(kind='root', direction='in', tag='root'), Link(kind='NarrativeText', direction='out', tag='637b00497e03f11b1206b4618acba278'), Link(kind='NarrativeText', direction='out', tag='cedec4b94f31383e97e0b72020b78704'), Link(kind='NarrativeText', direction='out', tag='796a28400f49cb7d34084a4a34f9b3f4'), Link(kind='NarrativeText', direction='out', tag='6e7013c8fe46e0fe8f53ec6f24025d7e')], 'detection_class_prob': 0.7861857414245605, 'coordinates': {'points': ((592.7625703015584, 1018.6142210814301), (592.7625703015584, 1089.841064453125), (1062.7745361328125, 1089.841064453125), (1062.7745361328125, 1018.6142210814301)), 'system': 'PixelSpace', 'layout_width': 1653, 'layout_height': 2339}, 'last_modified': '2024-11-08T16:28:51', 'filetype': 'application/pdf', 'languages': ['eng'], 'page_number': 3, 'filename': 'sample10.pdf'}, page_content='Final Thoughts'),\n",
       " Document(id='637b00497e03f11b1206b4618acba278', metadata={'type': 'NarrativeText', 'links': [Link(kind='NarrativeText', direction='in', tag='d0ee92a476a42f097c3fd1a2d87660fc')], 'detection_class_prob': 0.6511302590370178, 'coordinates': {'points': ((166.9813276257777, 1135.8534708394366), (166.9813276257777, 1212.8526611328125), (1485.8167159243026, 1212.8526611328125), (1485.8167159243026, 1135.8534708394366)), 'system': 'PixelSpace', 'layout_width': 1653, 'layout_height': 2339}, 'last_modified': '2024-11-08T16:28:51', 'filetype': 'application/pdf', 'languages': ['eng'], 'page_number': 3, 'parent_id': 'd0ee92a476a42f097c3fd1a2d87660fc', 'filename': 'sample10.pdf'}, page_content='Placeholder text remains an essential part of design, providing the flexibility needed to create layouts that are functional and visually compelling. Its role in design workflows is likely to persist, adapting to new technologies and creative'),\n",
       " Document(id='cedec4b94f31383e97e0b72020b78704', metadata={'type': 'NarrativeText', 'links': [Link(kind='NarrativeText', direction='in', tag='d0ee92a476a42f097c3fd1a2d87660fc')], 'detection_class_prob': 0.4217175543308258, 'coordinates': {'points': ((770.0396118164062, 1227.5201336866587), (770.0396118164062, 1252.520132644992), (881.2960759459953, 1252.520132644992), (881.2960759459953, 1227.5201336866587)), 'system': 'PixelSpace', 'layout_width': 1653, 'layout_height': 2339}, 'last_modified': '2024-11-08T16:28:51', 'filetype': 'application/pdf', 'languages': ['eng'], 'page_number': 3, 'parent_id': 'd0ee92a476a42f097c3fd1a2d87660fc', 'filename': 'sample10.pdf'}, page_content='demands.'),\n",
       " Document(id='796a28400f49cb7d34084a4a34f9b3f4', metadata={'type': 'NarrativeText', 'links': [Link(kind='NarrativeText', direction='in', tag='d0ee92a476a42f097c3fd1a2d87660fc')], 'detection_class_prob': 0.6236016750335693, 'coordinates': {'points': ((161.21960911584932, 1304.603463808186), (161.21960911584932, 1421.2701256137416), (1491.55401626858, 1421.2701256137416), (1491.55401626858, 1304.603463808186)), 'system': 'PixelSpace', 'layout_width': 1653, 'layout_height': 2339}, 'last_modified': '2024-11-08T16:28:51', 'filetype': 'application/pdf', 'languages': ['eng'], 'page_number': 3, 'parent_id': 'd0ee92a476a42f097c3fd1a2d87660fc', 'filename': 'sample10.pdf'}, page_content='The practice of using placeholder text is more than just filling space—it’s a strategic tool that enhances focus, collaboration, and creativity. Designers can experiment with different ideas, confident that the layout will remain cohesive regardless of the final content.'),\n",
       " Document(id='6e7013c8fe46e0fe8f53ec6f24025d7e', metadata={'type': 'NarrativeText', 'links': [Link(kind='NarrativeText', direction='in', tag='d0ee92a476a42f097c3fd1a2d87660fc')], 'detection_class_prob': 0.7104524374008179, 'coordinates': {'points': ((523.2534790039062, 1475.4367900234638), (523.2534790039062, 1500.4367889817972), (1127.263674280678, 1500.4367889817972), (1127.263674280678, 1475.4367900234638)), 'system': 'PixelSpace', 'layout_width': 1653, 'layout_height': 2339}, 'last_modified': '2024-11-08T16:28:51', 'filetype': 'application/pdf', 'languages': ['eng'], 'page_number': 3, 'parent_id': 'd0ee92a476a42f097c3fd1a2d87660fc', 'filename': 'sample10.pdf'}, page_content='In conclusion, placeholder text empowers designers to')]"
      ]
     },
     "execution_count": 4,
     "metadata": {},
     "output_type": "execute_result"
    }
   ],
   "source": [
    "import pathlib\n",
    "g = ContentGraph(\"Graph Rag\")\n",
    "g.fromPDFDocument(pathlib.Path(\"sample10.pdf\"),output_image_path=\"./images\", reset_graph=True, infer_hierarchy=True)\n",
    "g.graph\n"
   ]
  },
  {
   "cell_type": "code",
   "execution_count": 5,
   "metadata": {},
   "outputs": [
    {
     "name": "stderr",
     "output_type": "stream",
     "text": [
      "/var/folders/hr/bsttdbns4nn9l1g54smlh_mr0000gn/T/ipykernel_10374/3967340279.py:5: LangChainBetaWarning: The class `OpenSearchGraphVectorStore` is in beta. It is actively being worked on, so the API may change.\n",
      "  os_client = OpenSearchGraphVectorStore(\n",
      "INFO:opensearch:HEAD https://localhost:9201/opensearch_graphvector_notebook [status:200 request:0.435s]\n",
      "INFO:opensearch:POST https://localhost:9201/opensearch_graphvector_notebook/_delete_by_query [status:200 request:0.310s]\n"
     ]
    }
   ],
   "source": [
    "from langchain_community.graph_vectorstores.opensearch import OpenSearchGraphVectorStore\n",
    "from langchain_openai import OpenAIEmbeddings\n",
    "embedding_model = OpenAIEmbeddings()\n",
    "\n",
    "os_client = OpenSearchGraphVectorStore(\n",
    "    opensearch_url=url,\n",
    "    http_auth=auth,\n",
    "    index_name=index_name,\n",
    "    embedding=embedding_model,\n",
    "    reset_index=True,\n",
    ")\n"
   ]
  },
  {
   "cell_type": "code",
   "execution_count": 6,
   "metadata": {},
   "outputs": [
    {
     "name": "stderr",
     "output_type": "stream",
     "text": [
      "INFO:httpx:HTTP Request: POST https://api.openai.com/v1/embeddings \"HTTP/1.1 200 OK\"\n",
      "INFO:opensearch:GET https://localhost:9201/opensearch_graphvector_notebook [status:200 request:0.008s]\n",
      "INFO:opensearch:POST https://localhost:9201/_bulk [status:200 request:0.203s]\n",
      "INFO:opensearch:POST https://localhost:9201/_bulk [status:200 request:0.066s]\n",
      "INFO:opensearch:POST https://localhost:9201/opensearch_graphvector_notebook/_refresh [status:200 request:0.146s]\n"
     ]
    }
   ],
   "source": [
    "os_client.add_content_graph(g)\n"
   ]
  },
  {
   "cell_type": "code",
   "execution_count": 7,
   "metadata": {},
   "outputs": [
    {
     "name": "stderr",
     "output_type": "stream",
     "text": [
      "INFO:opensearch:POST https://localhost:9201/opensearch_graphvector_notebook/_search?size=10 [status:200 request:0.044s]\n"
     ]
    },
    {
     "data": {
      "text/plain": [
       "[Document(id='root', metadata={'file_date': '2024-11-08T16:28:51.597270', 'links': {Link(kind='Title', direction='out', tag='1c9c79a725133bd8fd1c9345acf2a5ce'), Link(kind='Title', direction='out', tag='af55be232f6114fa7840d14941c92600'), Link(kind='Title', direction='out', tag='a587eb4bb2db07115a3890531c896281'), Link(kind='Title', direction='out', tag='43a339c7e27d89a8db8800226eca0d93'), Link(kind='Title', direction='out', tag='dd50a2eeaad19e27a3b09c7c2f85b197'), Link(kind='Title', direction='out', tag='d0ee92a476a42f097c3fd1a2d87660fc'), Link(kind='Title', direction='out', tag='ab95516f1227f26842c62074ff1a5171'), Link(kind='Title', direction='out', tag='7cfe0d89c10c4f0aed70ae75fdeecbb2'), Link(kind='Title', direction='out', tag='09f5af3237057d3c83c4ac9432a8bd65')}}, page_content='sample10.pdf'),\n",
       " Document(id='a587eb4bb2db07115a3890531c896281', metadata={'type': 'Title', 'links': {Link(kind='root', direction='in', tag='root')}, 'detection_class_prob': 0.4106774628162384, 'coordinates': {'points': [[201.42143035744004, 180.75514221191406], [201.42143035744004, 429.74481201171875], [1451.3402869831261, 429.74481201171875], [1451.3402869831261, 180.75514221191406]], 'system': 'PixelSpace', 'layout_width': 1653, 'layout_height': 2339}, 'last_modified': '2024-11-08T16:28:51', 'filetype': 'application/pdf', 'languages': ['eng'], 'page_number': 1, 'filename': 'sample10.pdf'}, page_content='The Essence of Placeholder Text in Design'),\n",
       " Document(id='7cfe0d89c10c4f0aed70ae75fdeecbb2', metadata={'type': 'Title', 'links': {Link(kind='root', direction='in', tag='root'), Link(kind='NarrativeText', direction='out', tag='7be4d084ed1d8d2f0f0136130d96657d'), Link(kind='NarrativeText', direction='out', tag='9bdca855f20835cd8a463e2645f269e9'), Link(kind='NarrativeText', direction='out', tag='5c8aa95465fc1db19445d8d1e93b269e'), Link(kind='NarrativeText', direction='out', tag='0cf4c4a72b187a3e8b9441d670668220'), Link(kind='NarrativeText', direction='out', tag='37bd4b148b92576880338619f547f56d')}, 'detection_class_prob': 0.6099551916122437, 'coordinates': {'points': [[325.00848388671875, 493.61412962310186], [325.00848388671875, 568.5733032226562], [1335.915283203125, 568.5733032226562], [1335.915283203125, 493.61412962310186]], 'system': 'PixelSpace', 'layout_width': 1653, 'layout_height': 2339}, 'last_modified': '2024-11-08T16:28:51', 'filetype': 'application/pdf', 'languages': ['eng'], 'page_number': 1, 'filename': 'sample10.pdf'}, page_content='Understanding Placeholder Text'),\n",
       " Document(id='7be4d084ed1d8d2f0f0136130d96657d', metadata={'type': 'NarrativeText', 'links': {Link(kind='NarrativeText', direction='in', tag='7cfe0d89c10c4f0aed70ae75fdeecbb2')}, 'detection_class_prob': 0.5615547299385071, 'coordinates': {'points': [[157.9318488361727, 610.8533793811081], [157.9318488361727, 703.3484497070312], [1494.8580568809132, 703.3484497070312], [1494.8580568809132, 610.8533793811081]], 'system': 'PixelSpace', 'layout_width': 1653, 'layout_height': 2339}, 'last_modified': '2024-11-08T16:28:51', 'filetype': 'application/pdf', 'languages': ['eng'], 'page_number': 1, 'parent_id': '7cfe0d89c10c4f0aed70ae75fdeecbb2', 'filename': 'sample10.pdf'}, page_content='Placeholder text is commonly used in design and development to visualize content layout without needing actual content. It allows designers to focus on the structure and style of a page before the real text is available. Placeholder text can'),\n",
       " Document(id='0cf4c4a72b187a3e8b9441d670668220', metadata={'type': 'NarrativeText', 'links': {Link(kind='NarrativeText', direction='in', tag='7cfe0d89c10c4f0aed70ae75fdeecbb2')}, 'detection_class_prob': 0.2683192491531372, 'coordinates': {'points': [[444.04888916015625, 702.5200422283303], [444.04888916015625, 727.5200411866637], [1201.1529541015625, 727.5200411866637], [1201.1529541015625, 702.5200422283303]], 'system': 'PixelSpace', 'layout_width': 1653, 'layout_height': 2339}, 'last_modified': '2024-11-08T16:28:51', 'filetype': 'application/pdf', 'languages': ['eng'], 'page_number': 1, 'parent_id': '7cfe0d89c10c4f0aed70ae75fdeecbb2', 'filename': 'sample10.pdf'}, page_content='provide insights into how text will flow in various parts of a design.'),\n",
       " Document(id='37bd4b148b92576880338619f547f56d', metadata={'type': 'NarrativeText', 'links': {Link(kind='NarrativeText', direction='in', tag='7cfe0d89c10c4f0aed70ae75fdeecbb2')}, 'detection_class_prob': 0.8328621983528137, 'coordinates': {'points': [[172.51518156186714, 781.686705596386], [172.51518156186714, 875.0081176757812], [1484.12060546875, 875.0081176757812], [1484.12060546875, 781.686705596386]], 'system': 'PixelSpace', 'layout_width': 1653, 'layout_height': 2339}, 'last_modified': '2024-11-08T16:28:51', 'filetype': 'application/pdf', 'languages': ['eng'], 'page_number': 1, 'parent_id': '7cfe0d89c10c4f0aed70ae75fdeecbb2', 'filename': 'sample10.pdf'}, page_content='Using placeholder text helps in creating a balanced layout that aligns with the overall user experience. Designers often employ it to simulate the visual impact of content in headers, body paragraphs, and footers, ensuring that each section'),\n",
       " Document(id='9bdca855f20835cd8a463e2645f269e9', metadata={'type': 'NarrativeText', 'links': {Link(kind='NarrativeText', direction='in', tag='7cfe0d89c10c4f0aed70ae75fdeecbb2')}, 'coordinates': {'points': [[674.4357335651765, 873.3533684436082], [674.4357335651765, 898.3533674019415], [978.3297629029249, 898.3533674019415], [978.3297629029249, 873.3533684436082]], 'system': 'PixelSpace', 'layout_width': 1653, 'layout_height': 2339}, 'last_modified': '2024-11-08T16:28:51', 'filetype': 'application/pdf', 'languages': ['eng'], 'page_number': 1, 'parent_id': '7cfe0d89c10c4f0aed70ae75fdeecbb2', 'filename': 'sample10.pdf'}, page_content='achieves the desired effect.'),\n",
       " Document(id='5c8aa95465fc1db19445d8d1e93b269e', metadata={'type': 'NarrativeText', 'links': {Link(kind='NarrativeText', direction='in', tag='7cfe0d89c10c4f0aed70ae75fdeecbb2')}, 'detection_class_prob': 0.5451501607894897, 'coordinates': {'points': [[187.8472121730325, 950.436698565136], [187.8472121730325, 1021.2700289470804], [1464.94676221055, 1021.2700289470804], [1464.94676221055, 950.436698565136]], 'system': 'PixelSpace', 'layout_width': 1653, 'layout_height': 2339}, 'last_modified': '2024-11-08T16:28:51', 'filetype': 'application/pdf', 'languages': ['eng'], 'page_number': 1, 'parent_id': '7cfe0d89c10c4f0aed70ae75fdeecbb2', 'filename': 'sample10.pdf'}, page_content='This approach allows for an uninterrupted design process, making it easier to see where adjustments are needed. It provides a practical solution for iterating quickly on layouts, especially in early development stages.'),\n",
       " Document(id='09f5af3237057d3c83c4ac9432a8bd65', metadata={'type': 'Title', 'links': {Link(kind='NarrativeText', direction='out', tag='d2524ec0a9c23881dd42d90d099ef6e4'), Link(kind='ListItem', direction='out', tag='f686f97fe0738594ef89fe3d75b89e5a'), Link(kind='NarrativeText', direction='out', tag='1d3f374f8e8037c23d63c171bb53858b'), Link(kind='root', direction='in', tag='root')}, 'detection_class_prob': 0.7727823853492737, 'coordinates': {'points': [[165.8494415283203, 1085.2807716369907], [165.8494415283203, 1155.9474311925464], [1486.842529296875, 1155.9474311925464], [1486.842529296875, 1085.2807716369907]], 'system': 'PixelSpace', 'layout_width': 1653, 'layout_height': 2339}, 'last_modified': '2024-11-08T16:28:51', 'filetype': 'application/pdf', 'languages': ['eng'], 'page_number': 1, 'filename': 'sample10.pdf'}, page_content='Historical Background of Placeholder Text'),\n",
       " Document(id='1d3f374f8e8037c23d63c171bb53858b', metadata={'type': 'NarrativeText', 'links': {Link(kind='NarrativeText', direction='in', tag='09f5af3237057d3c83c4ac9432a8bd65')}, 'detection_class_prob': 0.686560869216919, 'coordinates': {'points': [[166.33028598623778, 1202.520021394997], [166.33028598623778, 1320.0970458984375], [1486.4718264803391, 1320.0970458984375], [1486.4718264803391, 1202.520021394997]], 'system': 'PixelSpace', 'layout_width': 1653, 'layout_height': 2339}, 'last_modified': '2024-11-08T16:28:51', 'filetype': 'application/pdf', 'languages': ['eng'], 'page_number': 1, 'parent_id': '09f5af3237057d3c83c4ac9432a8bd65', 'filename': 'sample10.pdf'}, page_content='The practice of using placeholder text dates back centuries, originating from typesetting. Printers needed dummy text to arrange type in their printing layouts without using meaningful content. This tradition evolved, and placeholder text became essential in the modern digital world.')]"
      ]
     },
     "execution_count": 7,
     "metadata": {},
     "output_type": "execute_result"
    }
   ],
   "source": [
    "os_client.get_documents()\n"
   ]
  },
  {
   "cell_type": "code",
   "execution_count": 13,
   "metadata": {},
   "outputs": [
    {
     "name": "stderr",
     "output_type": "stream",
     "text": [
      "INFO:httpx:HTTP Request: POST https://api.openai.com/v1/embeddings \"HTTP/1.1 200 OK\"\n",
      "INFO:opensearch:POST https://localhost:9201/opensearch_graphvector_notebook/_search?size=4 [status:200 request:0.167s]\n"
     ]
    },
    {
     "data": {
      "text/plain": [
       "[Document(id='09f5af3237057d3c83c4ac9432a8bd65', metadata={'type': 'Title', 'links': {Link(kind='NarrativeText', direction='out', tag='d2524ec0a9c23881dd42d90d099ef6e4'), Link(kind='ListItem', direction='out', tag='f686f97fe0738594ef89fe3d75b89e5a'), Link(kind='NarrativeText', direction='out', tag='1d3f374f8e8037c23d63c171bb53858b'), Link(kind='root', direction='in', tag='root')}, 'detection_class_prob': 0.7727823853492737, 'coordinates': {'points': [[165.8494415283203, 1085.2807716369907], [165.8494415283203, 1155.9474311925464], [1486.842529296875, 1155.9474311925464], [1486.842529296875, 1085.2807716369907]], 'system': 'PixelSpace', 'layout_width': 1653, 'layout_height': 2339}, 'last_modified': '2024-11-08T16:28:51', 'filetype': 'application/pdf', 'languages': ['eng'], 'page_number': 1, 'filename': 'sample10.pdf'}, page_content='Historical Background of Placeholder Text'),\n",
       " Document(id='7cfe0d89c10c4f0aed70ae75fdeecbb2', metadata={'type': 'Title', 'links': {Link(kind='root', direction='in', tag='root'), Link(kind='NarrativeText', direction='out', tag='7be4d084ed1d8d2f0f0136130d96657d'), Link(kind='NarrativeText', direction='out', tag='9bdca855f20835cd8a463e2645f269e9'), Link(kind='NarrativeText', direction='out', tag='5c8aa95465fc1db19445d8d1e93b269e'), Link(kind='NarrativeText', direction='out', tag='0cf4c4a72b187a3e8b9441d670668220'), Link(kind='NarrativeText', direction='out', tag='37bd4b148b92576880338619f547f56d')}, 'detection_class_prob': 0.6099551916122437, 'coordinates': {'points': [[325.00848388671875, 493.61412962310186], [325.00848388671875, 568.5733032226562], [1335.915283203125, 568.5733032226562], [1335.915283203125, 493.61412962310186]], 'system': 'PixelSpace', 'layout_width': 1653, 'layout_height': 2339}, 'last_modified': '2024-11-08T16:28:51', 'filetype': 'application/pdf', 'languages': ['eng'], 'page_number': 1, 'filename': 'sample10.pdf'}, page_content='Understanding Placeholder Text'),\n",
       " Document(id='1d3f374f8e8037c23d63c171bb53858b', metadata={'type': 'NarrativeText', 'links': {Link(kind='NarrativeText', direction='in', tag='09f5af3237057d3c83c4ac9432a8bd65')}, 'detection_class_prob': 0.686560869216919, 'coordinates': {'points': [[166.33028598623778, 1202.520021394997], [166.33028598623778, 1320.0970458984375], [1486.4718264803391, 1320.0970458984375], [1486.4718264803391, 1202.520021394997]], 'system': 'PixelSpace', 'layout_width': 1653, 'layout_height': 2339}, 'last_modified': '2024-11-08T16:28:51', 'filetype': 'application/pdf', 'languages': ['eng'], 'page_number': 1, 'parent_id': '09f5af3237057d3c83c4ac9432a8bd65', 'filename': 'sample10.pdf'}, page_content='The practice of using placeholder text dates back centuries, originating from typesetting. Printers needed dummy text to arrange type in their printing layouts without using meaningful content. This tradition evolved, and placeholder text became essential in the modern digital world.'),\n",
       " Document(id='a587eb4bb2db07115a3890531c896281', metadata={'type': 'Title', 'links': {Link(kind='root', direction='in', tag='root')}, 'detection_class_prob': 0.4106774628162384, 'coordinates': {'points': [[201.42143035744004, 180.75514221191406], [201.42143035744004, 429.74481201171875], [1451.3402869831261, 429.74481201171875], [1451.3402869831261, 180.75514221191406]], 'system': 'PixelSpace', 'layout_width': 1653, 'layout_height': 2339}, 'last_modified': '2024-11-08T16:28:51', 'filetype': 'application/pdf', 'languages': ['eng'], 'page_number': 1, 'filename': 'sample10.pdf'}, page_content='The Essence of Placeholder Text in Design')]"
      ]
     },
     "execution_count": 13,
     "metadata": {},
     "output_type": "execute_result"
    }
   ],
   "source": [
    "os_client.similarity_search(\n",
    "    \"Can you explain the historical background of placeholder text?\"\n",
    ")\n"
   ]
  },
  {
   "cell_type": "code",
   "execution_count": 14,
   "metadata": {},
   "outputs": [
    {
     "name": "stderr",
     "output_type": "stream",
     "text": [
      "INFO:httpx:HTTP Request: POST https://api.openai.com/v1/embeddings \"HTTP/1.1 200 OK\"\n",
      "INFO:opensearch:POST https://localhost:9201/opensearch_graphvector_notebook/_search [status:200 request:0.071s]\n"
     ]
    },
    {
     "name": "stdout",
     "output_type": "stream",
     "text": [
      "09f5af3237057d3c83c4ac9432a8bd65\n",
      "7cfe0d89c10c4f0aed70ae75fdeecbb2\n",
      "1d3f374f8e8037c23d63c171bb53858b\n",
      "a587eb4bb2db07115a3890531c896281\n"
     ]
    }
   ],
   "source": [
    "import asyncio\n",
    "\n",
    "async def runner():\n",
    "    async for document in os_client.asimilarity_search(\n",
    "        \"Can you explain the historical background of placeholder text?\"\n",
    "    ):\n",
    "        print(document.id)\n",
    "\n",
    "\n",
    "# Run the function directly if in an interactive environment like Jupyter Notebook\n",
    "await runner()\n"
   ]
  },
  {
   "cell_type": "code",
   "execution_count": 19,
   "metadata": {},
   "outputs": [
    {
     "name": "stderr",
     "output_type": "stream",
     "text": [
      "INFO:opensearch:POST https://localhost:9201/opensearch_graphvector_notebook/_search?size=10 [status:200 request:0.061s]\n"
     ]
    },
    {
     "name": "stdout",
     "output_type": "stream",
     "text": [
      "[Document(id='root', metadata={'file_date': '2024-11-08T16:28:51.597270', 'links': {Link(kind='Title', direction='out', tag='1c9c79a725133bd8fd1c9345acf2a5ce'), Link(kind='Title', direction='out', tag='af55be232f6114fa7840d14941c92600'), Link(kind='Title', direction='out', tag='a587eb4bb2db07115a3890531c896281'), Link(kind='Title', direction='out', tag='43a339c7e27d89a8db8800226eca0d93'), Link(kind='Title', direction='out', tag='dd50a2eeaad19e27a3b09c7c2f85b197'), Link(kind='Title', direction='out', tag='d0ee92a476a42f097c3fd1a2d87660fc'), Link(kind='Title', direction='out', tag='ab95516f1227f26842c62074ff1a5171'), Link(kind='Title', direction='out', tag='7cfe0d89c10c4f0aed70ae75fdeecbb2'), Link(kind='Title', direction='out', tag='09f5af3237057d3c83c4ac9432a8bd65')}}, page_content='sample10.pdf'), Document(id='a587eb4bb2db07115a3890531c896281', metadata={'type': 'Title', 'links': {Link(kind='root', direction='in', tag='root')}, 'detection_class_prob': 0.4106774628162384, 'coordinates': {'points': [[201.42143035744004, 180.75514221191406], [201.42143035744004, 429.74481201171875], [1451.3402869831261, 429.74481201171875], [1451.3402869831261, 180.75514221191406]], 'system': 'PixelSpace', 'layout_width': 1653, 'layout_height': 2339}, 'last_modified': '2024-11-08T16:28:51', 'filetype': 'application/pdf', 'languages': ['eng'], 'page_number': 1, 'filename': 'sample10.pdf'}, page_content='The Essence of Placeholder Text in Design'), Document(id='7cfe0d89c10c4f0aed70ae75fdeecbb2', metadata={'type': 'Title', 'links': {Link(kind='root', direction='in', tag='root'), Link(kind='NarrativeText', direction='out', tag='7be4d084ed1d8d2f0f0136130d96657d'), Link(kind='NarrativeText', direction='out', tag='9bdca855f20835cd8a463e2645f269e9'), Link(kind='NarrativeText', direction='out', tag='5c8aa95465fc1db19445d8d1e93b269e'), Link(kind='NarrativeText', direction='out', tag='0cf4c4a72b187a3e8b9441d670668220'), Link(kind='NarrativeText', direction='out', tag='37bd4b148b92576880338619f547f56d')}, 'detection_class_prob': 0.6099551916122437, 'coordinates': {'points': [[325.00848388671875, 493.61412962310186], [325.00848388671875, 568.5733032226562], [1335.915283203125, 568.5733032226562], [1335.915283203125, 493.61412962310186]], 'system': 'PixelSpace', 'layout_width': 1653, 'layout_height': 2339}, 'last_modified': '2024-11-08T16:28:51', 'filetype': 'application/pdf', 'languages': ['eng'], 'page_number': 1, 'filename': 'sample10.pdf'}, page_content='Understanding Placeholder Text'), Document(id='7be4d084ed1d8d2f0f0136130d96657d', metadata={'type': 'NarrativeText', 'links': {Link(kind='NarrativeText', direction='in', tag='7cfe0d89c10c4f0aed70ae75fdeecbb2')}, 'detection_class_prob': 0.5615547299385071, 'coordinates': {'points': [[157.9318488361727, 610.8533793811081], [157.9318488361727, 703.3484497070312], [1494.8580568809132, 703.3484497070312], [1494.8580568809132, 610.8533793811081]], 'system': 'PixelSpace', 'layout_width': 1653, 'layout_height': 2339}, 'last_modified': '2024-11-08T16:28:51', 'filetype': 'application/pdf', 'languages': ['eng'], 'page_number': 1, 'parent_id': '7cfe0d89c10c4f0aed70ae75fdeecbb2', 'filename': 'sample10.pdf'}, page_content='Placeholder text is commonly used in design and development to visualize content layout without needing actual content. It allows designers to focus on the structure and style of a page before the real text is available. Placeholder text can'), Document(id='0cf4c4a72b187a3e8b9441d670668220', metadata={'type': 'NarrativeText', 'links': {Link(kind='NarrativeText', direction='in', tag='7cfe0d89c10c4f0aed70ae75fdeecbb2')}, 'detection_class_prob': 0.2683192491531372, 'coordinates': {'points': [[444.04888916015625, 702.5200422283303], [444.04888916015625, 727.5200411866637], [1201.1529541015625, 727.5200411866637], [1201.1529541015625, 702.5200422283303]], 'system': 'PixelSpace', 'layout_width': 1653, 'layout_height': 2339}, 'last_modified': '2024-11-08T16:28:51', 'filetype': 'application/pdf', 'languages': ['eng'], 'page_number': 1, 'parent_id': '7cfe0d89c10c4f0aed70ae75fdeecbb2', 'filename': 'sample10.pdf'}, page_content='provide insights into how text will flow in various parts of a design.'), Document(id='37bd4b148b92576880338619f547f56d', metadata={'type': 'NarrativeText', 'links': {Link(kind='NarrativeText', direction='in', tag='7cfe0d89c10c4f0aed70ae75fdeecbb2')}, 'detection_class_prob': 0.8328621983528137, 'coordinates': {'points': [[172.51518156186714, 781.686705596386], [172.51518156186714, 875.0081176757812], [1484.12060546875, 875.0081176757812], [1484.12060546875, 781.686705596386]], 'system': 'PixelSpace', 'layout_width': 1653, 'layout_height': 2339}, 'last_modified': '2024-11-08T16:28:51', 'filetype': 'application/pdf', 'languages': ['eng'], 'page_number': 1, 'parent_id': '7cfe0d89c10c4f0aed70ae75fdeecbb2', 'filename': 'sample10.pdf'}, page_content='Using placeholder text helps in creating a balanced layout that aligns with the overall user experience. Designers often employ it to simulate the visual impact of content in headers, body paragraphs, and footers, ensuring that each section'), Document(id='9bdca855f20835cd8a463e2645f269e9', metadata={'type': 'NarrativeText', 'links': {Link(kind='NarrativeText', direction='in', tag='7cfe0d89c10c4f0aed70ae75fdeecbb2')}, 'coordinates': {'points': [[674.4357335651765, 873.3533684436082], [674.4357335651765, 898.3533674019415], [978.3297629029249, 898.3533674019415], [978.3297629029249, 873.3533684436082]], 'system': 'PixelSpace', 'layout_width': 1653, 'layout_height': 2339}, 'last_modified': '2024-11-08T16:28:51', 'filetype': 'application/pdf', 'languages': ['eng'], 'page_number': 1, 'parent_id': '7cfe0d89c10c4f0aed70ae75fdeecbb2', 'filename': 'sample10.pdf'}, page_content='achieves the desired effect.'), Document(id='5c8aa95465fc1db19445d8d1e93b269e', metadata={'type': 'NarrativeText', 'links': {Link(kind='NarrativeText', direction='in', tag='7cfe0d89c10c4f0aed70ae75fdeecbb2')}, 'detection_class_prob': 0.5451501607894897, 'coordinates': {'points': [[187.8472121730325, 950.436698565136], [187.8472121730325, 1021.2700289470804], [1464.94676221055, 1021.2700289470804], [1464.94676221055, 950.436698565136]], 'system': 'PixelSpace', 'layout_width': 1653, 'layout_height': 2339}, 'last_modified': '2024-11-08T16:28:51', 'filetype': 'application/pdf', 'languages': ['eng'], 'page_number': 1, 'parent_id': '7cfe0d89c10c4f0aed70ae75fdeecbb2', 'filename': 'sample10.pdf'}, page_content='This approach allows for an uninterrupted design process, making it easier to see where adjustments are needed. It provides a practical solution for iterating quickly on layouts, especially in early development stages.'), Document(id='09f5af3237057d3c83c4ac9432a8bd65', metadata={'type': 'Title', 'links': {Link(kind='NarrativeText', direction='out', tag='d2524ec0a9c23881dd42d90d099ef6e4'), Link(kind='ListItem', direction='out', tag='f686f97fe0738594ef89fe3d75b89e5a'), Link(kind='NarrativeText', direction='out', tag='1d3f374f8e8037c23d63c171bb53858b'), Link(kind='root', direction='in', tag='root')}, 'detection_class_prob': 0.7727823853492737, 'coordinates': {'points': [[165.8494415283203, 1085.2807716369907], [165.8494415283203, 1155.9474311925464], [1486.842529296875, 1155.9474311925464], [1486.842529296875, 1085.2807716369907]], 'system': 'PixelSpace', 'layout_width': 1653, 'layout_height': 2339}, 'last_modified': '2024-11-08T16:28:51', 'filetype': 'application/pdf', 'languages': ['eng'], 'page_number': 1, 'filename': 'sample10.pdf'}, page_content='Historical Background of Placeholder Text'), Document(id='1d3f374f8e8037c23d63c171bb53858b', metadata={'type': 'NarrativeText', 'links': {Link(kind='NarrativeText', direction='in', tag='09f5af3237057d3c83c4ac9432a8bd65')}, 'detection_class_prob': 0.686560869216919, 'coordinates': {'points': [[166.33028598623778, 1202.520021394997], [166.33028598623778, 1320.0970458984375], [1486.4718264803391, 1320.0970458984375], [1486.4718264803391, 1202.520021394997]], 'system': 'PixelSpace', 'layout_width': 1653, 'layout_height': 2339}, 'last_modified': '2024-11-08T16:28:51', 'filetype': 'application/pdf', 'languages': ['eng'], 'page_number': 1, 'parent_id': '09f5af3237057d3c83c4ac9432a8bd65', 'filename': 'sample10.pdf'}, page_content='The practice of using placeholder text dates back centuries, originating from typesetting. Printers needed dummy text to arrange type in their printing layouts without using meaningful content. This tradition evolved, and placeholder text became essential in the modern digital world.')]\n"
     ]
    }
   ],
   "source": [
    "docs = os_client.get_documents(k=10)\n",
    "print(docs)\n"
   ]
  },
  {
   "cell_type": "code",
   "execution_count": 20,
   "metadata": {},
   "outputs": [
    {
     "name": "stderr",
     "output_type": "stream",
     "text": [
      "INFO:opensearch:GET https://localhost:9201/opensearch_graphvector_notebook/_doc/root [status:200 request:0.013s]\n"
     ]
    },
    {
     "data": {
      "text/plain": [
       "'sample10.pdf'"
      ]
     },
     "execution_count": 20,
     "metadata": {},
     "output_type": "execute_result"
    }
   ],
   "source": [
    "doc = os_client.search_by_id(docs[0].id)\n",
    "doc.page_content\n"
   ]
  },
  {
   "cell_type": "code",
   "execution_count": null,
   "metadata": {},
   "outputs": [
    {
     "name": "stderr",
     "output_type": "stream",
     "text": [
      "INFO:opensearch:GET https://localhost:9201/opensearch_graphvector_notebook/_doc/root [status:200 request:0.063s]\n"
     ]
    },
    {
     "name": "stdout",
     "output_type": "stream",
     "text": [
      "sample10.pdf\n"
     ]
    }
   ],
   "source": [
    "import asyncio\n",
    "\n",
    "async def runner():\n",
    "    doc = await os_client.asearch_by_id(docs[0].id)\n",
    "    print(doc.page_content)\n",
    "\n",
    "\n",
    "# Run the function directly if in an interactive environment like Jupyter Notebook\n",
    "await runner()\n"
   ]
  },
  {
   "cell_type": "markdown",
   "metadata": {},
   "source": [
    "{\n",
    "  \"took\": 12,\n",
    "  \"timed_out\": false,\n",
    "  \"_shards\": {\n",
    "    \"total\": 3,\n",
    "    \"successful\": 3,\n",
    "    \"skipped\": 0,\n",
    "    \"failed\": 0\n",
    "  },\n",
    "  \"hits\": {\n",
    "    \"total\": {\n",
    "      \"value\": 100,\n",
    "      \"relation\": \"eq\"\n",
    "    },\n",
    "    \"max_score\": 1.0,\n",
    "    \"hits\": [\n",
    "      {\n",
    "        \"_index\": \"your_index_name\",\n",
    "        \"_type\": \"_doc\",\n",
    "        \"_id\": \"1\",\n",
    "        \"_score\": 1.0,\n",
    "        \"_source\": {\n",
    "          \"field1\": \"value1\",\n",
    "          \"field2\": \"value2\",\n",
    "          \"metadata\": { ... }\n",
    "        }\n",
    "      },\n",
    "      {\n",
    "        \"_index\": \"your_index_name\",\n",
    "        \"_type\": \"_doc\",\n",
    "        \"_id\": \"2\",\n",
    "        \"_score\": 0.9,\n",
    "        \"_source\": {\n",
    "          \"field1\": \"value3\",\n",
    "          \"field2\": \"value4\",\n",
    "          \"metadata\": { ... }\n",
    "        }\n",
    "      }\n",
    "      // Additional hits...\n",
    "    ]\n",
    "  }\n",
    "}"
   ]
  },
  {
   "cell_type": "code",
   "execution_count": 24,
   "metadata": {},
   "outputs": [
    {
     "name": "stderr",
     "output_type": "stream",
     "text": [
      "INFO:opensearch:POST https://localhost:9201/opensearch_graphvector_notebook/_search?size=20 [status:200 request:0.149s]\n"
     ]
    },
    {
     "name": "stdout",
     "output_type": "stream",
     "text": [
      "7be4d084ed1d8d2f0f0136130d96657d\n",
      "0cf4c4a72b187a3e8b9441d670668220\n",
      "37bd4b148b92576880338619f547f56d\n",
      "9bdca855f20835cd8a463e2645f269e9\n",
      "5c8aa95465fc1db19445d8d1e93b269e\n",
      "1d3f374f8e8037c23d63c171bb53858b\n",
      "d2524ec0a9c23881dd42d90d099ef6e4\n",
      "5ae5ed1dfcafbd54c90191a3a2bcaa76\n",
      "1ebda6ab90b083768bbaa6e253a6b8d3\n",
      "57fdd79928c738894790c3a902fbd25f\n",
      "8bb08bf5438d4aa17e047133ad2a4d4d\n",
      "075c0b9e6466940817c3620a2aa51c18\n",
      "e352c457d9ffbce0c5eff0907a4f07f7\n",
      "e2f8361e9188b2db54eee5c16c27f1ac\n",
      "d7ae8a934c4792142b39737daedaf0f6\n",
      "b59d0a8414ba0ade38baa4e50aa9f30b\n",
      "f83f83705f648b1785c42410487bfbef\n",
      "83eab554b8f92b031e15f802a7d85f1c\n",
      "d6641b68a0633565c9b2d4b9b32fffec\n",
      "4c004820d67a5aa32ba2b60de47048f3\n"
     ]
    }
   ],
   "source": [
    "search_criteria = {\"type\": \"NarrativeText\"}\n",
    "results = os_client.search_by_metadata(search_criteria, k=20)\n",
    "for doc in results:\n",
    "    print(doc.id)\n"
   ]
  },
  {
   "cell_type": "code",
   "execution_count": 25,
   "metadata": {},
   "outputs": [
    {
     "name": "stderr",
     "output_type": "stream",
     "text": [
      "INFO:opensearch:POST https://localhost:9201/opensearch_graphvector_notebook/_search?size=5 [status:200 request:0.080s]\n"
     ]
    },
    {
     "name": "stdout",
     "output_type": "stream",
     "text": [
      "7be4d084ed1d8d2f0f0136130d96657d\n",
      "0cf4c4a72b187a3e8b9441d670668220\n",
      "37bd4b148b92576880338619f547f56d\n",
      "9bdca855f20835cd8a463e2645f269e9\n",
      "5c8aa95465fc1db19445d8d1e93b269e\n"
     ]
    }
   ],
   "source": [
    "import asyncio\n",
    "\n",
    "async def runner():\n",
    "    metadata = {\"type\": \"NarrativeText\"}\n",
    "    async for document in os_client.asearch_by_metadata(metadata=metadata, k=5):\n",
    "        print(document.id)\n",
    "\n",
    "# Run the function directly if in an interactive environment like Jupyter Notebook\n",
    "await runner()\n"
   ]
  },
  {
   "cell_type": "code",
   "execution_count": 29,
   "metadata": {},
   "outputs": [
    {
     "name": "stderr",
     "output_type": "stream",
     "text": [
      "INFO:httpx:HTTP Request: POST https://api.openai.com/v1/embeddings \"HTTP/1.1 200 OK\"\n",
      "INFO:opensearch:POST https://localhost:9201/opensearch_graphvector_notebook/_search?size=10 [status:200 request:0.062s]\n"
     ]
    },
    {
     "name": "stdout",
     "output_type": "stream",
     "text": [
      "7be4d084ed1d8d2f0f0136130d96657d NarrativeText\n",
      "0cf4c4a72b187a3e8b9441d670668220 NarrativeText\n",
      "37bd4b148b92576880338619f547f56d NarrativeText\n",
      "9bdca855f20835cd8a463e2645f269e9 NarrativeText\n",
      "5c8aa95465fc1db19445d8d1e93b269e NarrativeText\n",
      "1d3f374f8e8037c23d63c171bb53858b NarrativeText\n",
      "d2524ec0a9c23881dd42d90d099ef6e4 NarrativeText\n",
      "5ae5ed1dfcafbd54c90191a3a2bcaa76 NarrativeText\n",
      "1ebda6ab90b083768bbaa6e253a6b8d3 NarrativeText\n",
      "57fdd79928c738894790c3a902fbd25f NarrativeText\n",
      "8bb08bf5438d4aa17e047133ad2a4d4d NarrativeText\n",
      "075c0b9e6466940817c3620a2aa51c18 NarrativeText\n",
      "e352c457d9ffbce0c5eff0907a4f07f7 NarrativeText\n",
      "e2f8361e9188b2db54eee5c16c27f1ac NarrativeText\n",
      "d7ae8a934c4792142b39737daedaf0f6 NarrativeText\n",
      "b59d0a8414ba0ade38baa4e50aa9f30b NarrativeText\n",
      "f83f83705f648b1785c42410487bfbef NarrativeText\n",
      "83eab554b8f92b031e15f802a7d85f1c NarrativeText\n",
      "d6641b68a0633565c9b2d4b9b32fffec NarrativeText\n",
      "4c004820d67a5aa32ba2b60de47048f3 NarrativeText\n"
     ]
    }
   ],
   "source": [
    "result = os_client.similarity_search_by_vector_and_metadata(\"Can you explain the historical background of placeholder text?\", metadata = {\"type\": \"Title\"}, k=10)\n",
    "for doc in results:\n",
    "    print(doc.id, doc.metadata[\"type\"])\n"
   ]
  },
  {
   "cell_type": "code",
   "execution_count": 30,
   "metadata": {},
   "outputs": [
    {
     "name": "stderr",
     "output_type": "stream",
     "text": [
      "INFO:httpx:HTTP Request: POST https://api.openai.com/v1/embeddings \"HTTP/1.1 200 OK\"\n",
      "INFO:opensearch:POST https://localhost:9201/opensearch_graphvector_notebook/_search?size=4 [status:200 request:0.082s]\n",
      "INFO:opensearch:POST https://localhost:9201/opensearch_graphvector_notebook/_search?size=1000 [status:200 request:0.019s]\n",
      "INFO:opensearch:POST https://localhost:9201/opensearch_graphvector_notebook/_search?size=1000 [status:200 request:0.003s]\n",
      "INFO:opensearch:POST https://localhost:9201/opensearch_graphvector_notebook/_search?size=1000 [status:200 request:0.002s]\n",
      "INFO:opensearch:POST https://localhost:9201/opensearch_graphvector_notebook/_search?size=1000 [status:200 request:0.006s]\n",
      "INFO:opensearch:POST https://localhost:9201/opensearch_graphvector_notebook/_search?size=1000 [status:200 request:0.017s]\n",
      "INFO:opensearch:POST https://localhost:9201/opensearch_graphvector_notebook/_search?size=1000 [status:200 request:0.003s]\n",
      "INFO:opensearch:POST https://localhost:9201/opensearch_graphvector_notebook/_search?size=1000 [status:200 request:0.005s]\n",
      "INFO:opensearch:POST https://localhost:9201/opensearch_graphvector_notebook/_search?size=1000 [status:200 request:0.005s]\n"
     ]
    },
    {
     "name": "stdout",
     "output_type": "stream",
     "text": [
      "09f5af3237057d3c83c4ac9432a8bd65 Title\n",
      "7cfe0d89c10c4f0aed70ae75fdeecbb2 Title\n",
      "1d3f374f8e8037c23d63c171bb53858b NarrativeText\n",
      "a587eb4bb2db07115a3890531c896281 Title\n"
     ]
    }
   ],
   "source": [
    "result = os_client.traversal_search(\n",
    "    \"Can you explain the historical background of placeholder text?\"\n",
    ")\n",
    "\n",
    "for doc in result:\n",
    "    print(doc.id,doc.metadata[\"type\"])\n"
   ]
  },
  {
   "cell_type": "code",
   "execution_count": null,
   "metadata": {},
   "outputs": [
    {
     "name": "stderr",
     "output_type": "stream",
     "text": [
      "INFO:httpx:HTTP Request: POST https://api.openai.com/v1/embeddings \"HTTP/1.1 200 OK\"\n",
      "INFO:opensearch:POST https://localhost:9201/opensearch_graphvector_notebook/_search?size=10 [status:200 request:0.074s]\n",
      "INFO:opensearch:POST https://localhost:9201/opensearch_graphvector_notebook/_search?size=1000 [status:200 request:0.009s]\n",
      "INFO:opensearch:POST https://localhost:9201/opensearch_graphvector_notebook/_search?size=1000 [status:200 request:0.018s]\n",
      "INFO:opensearch:POST https://localhost:9201/opensearch_graphvector_notebook/_search?size=1000 [status:200 request:0.007s]\n",
      "INFO:opensearch:POST https://localhost:9201/opensearch_graphvector_notebook/_search?size=1000 [status:200 request:0.003s]\n",
      "INFO:opensearch:POST https://localhost:9201/opensearch_graphvector_notebook/_search?size=1000 [status:200 request:0.002s]\n",
      "INFO:opensearch:POST https://localhost:9201/opensearch_graphvector_notebook/_search?size=1000 [status:200 request:0.003s]\n",
      "INFO:opensearch:POST https://localhost:9201/opensearch_graphvector_notebook/_search?size=1000 [status:200 request:0.004s]\n",
      "INFO:opensearch:POST https://localhost:9201/opensearch_graphvector_notebook/_search?size=1000 [status:200 request:0.003s]\n",
      "INFO:opensearch:POST https://localhost:9201/opensearch_graphvector_notebook/_search?size=1000 [status:200 request:0.004s]\n",
      "INFO:opensearch:POST https://localhost:9201/opensearch_graphvector_notebook/_search?size=1000 [status:200 request:0.011s]\n",
      "INFO:opensearch:POST https://localhost:9201/opensearch_graphvector_notebook/_search?size=1000 [status:200 request:0.002s]\n",
      "INFO:opensearch:POST https://localhost:9201/opensearch_graphvector_notebook/_search?size=1000 [status:200 request:0.003s]\n",
      "INFO:opensearch:POST https://localhost:9201/opensearch_graphvector_notebook/_search?size=1000 [status:200 request:0.003s]\n",
      "INFO:opensearch:POST https://localhost:9201/opensearch_graphvector_notebook/_search?size=1000 [status:200 request:0.002s]\n",
      "INFO:opensearch:POST https://localhost:9201/opensearch_graphvector_notebook/_search?size=1000 [status:200 request:0.003s]\n",
      "INFO:opensearch:POST https://localhost:9201/opensearch_graphvector_notebook/_search?size=1000 [status:200 request:0.002s]\n",
      "INFO:opensearch:POST https://localhost:9201/opensearch_graphvector_notebook/_search?size=1000 [status:200 request:0.002s]\n",
      "INFO:opensearch:POST https://localhost:9201/opensearch_graphvector_notebook/_search?size=1000 [status:200 request:0.002s]\n",
      "INFO:opensearch:POST https://localhost:9201/opensearch_graphvector_notebook/_search?size=1000 [status:200 request:0.002s]\n",
      "INFO:opensearch:POST https://localhost:9201/opensearch_graphvector_notebook/_search?size=1000 [status:200 request:0.001s]\n",
      "INFO:opensearch:POST https://localhost:9201/opensearch_graphvector_notebook/_search?size=1000 [status:200 request:0.002s]\n",
      "INFO:opensearch:POST https://localhost:9201/opensearch_graphvector_notebook/_search?size=1000 [status:200 request:0.002s]\n",
      "INFO:opensearch:POST https://localhost:9201/opensearch_graphvector_notebook/_search?size=1000 [status:200 request:0.023s]\n"
     ]
    },
    {
     "name": "stdout",
     "output_type": "stream",
     "text": [
      "09f5af3237057d3c83c4ac9432a8bd65 Title\n",
      "7cfe0d89c10c4f0aed70ae75fdeecbb2 Title\n",
      "1d3f374f8e8037c23d63c171bb53858b NarrativeText\n",
      "a587eb4bb2db07115a3890531c896281 Title\n",
      "af55be232f6114fa7840d14941c92600 Title\n",
      "1c9c79a725133bd8fd1c9345acf2a5ce Title\n",
      "d2524ec0a9c23881dd42d90d099ef6e4 NarrativeText\n",
      "dd50a2eeaad19e27a3b09c7c2f85b197 Title\n",
      "43a339c7e27d89a8db8800226eca0d93 Title\n",
      "779ff8635a73d15280938bdfb6224ddf NarrativeText\n"
     ]
    }
   ],
   "source": [
    "retriever = os_client.as_retriever(search_type=\"traversal\", search_kwargs={\"k\": 10, \"depth\": 2})\n",
    "\n",
    "for doc in retriever.get_relevant_documents(query=\"Can you explain the historical background of placeholder text?\"\n",
    "):\n",
    "    print(doc.id, doc.metadata[\"type\"])\n"
   ]
  }
 ],
 "metadata": {
  "kernelspec": {
   "display_name": ".venv",
   "language": "python",
   "name": "python3"
  },
  "language_info": {
   "codemirror_mode": {
    "name": "ipython",
    "version": 3
   },
   "file_extension": ".py",
   "mimetype": "text/x-python",
   "name": "python",
   "nbconvert_exporter": "python",
   "pygments_lexer": "ipython3",
   "version": "3.11.10"
  }
 },
 "nbformat": 4,
 "nbformat_minor": 2
}
