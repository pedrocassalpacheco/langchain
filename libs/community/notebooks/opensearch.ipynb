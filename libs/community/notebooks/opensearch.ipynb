{
 "cells": [
  {
   "cell_type": "code",
   "execution_count": 1,
   "metadata": {
    "ExecuteTime": {
     "end_time": "2024-11-03T19:41:38.571531Z",
     "start_time": "2024-11-03T19:41:38.548384Z"
    }
   },
   "outputs": [
    {
     "name": "stdout",
     "output_type": "stream",
     "text": [
      "Host: localhost, Port: 9201, Auth: ('admin', 'Supe5Senh@'), Index: langchain_graph_vector_1\n"
     ]
    }
   ],
   "source": [
    "import os\n",
    "from dotenv import load_dotenv\n",
    "\n",
    "# Load environment variables from .env file\n",
    "load_dotenv()\n",
    "\n",
    "# Access the variables\n",
    "host = os.getenv(\"OPENSEARCH_HOST\", \"localhost\")\n",
    "port = int(os.getenv(\"OPENSEARCH_PORT\", 9201))\n",
    "url = f\"http://{host}:{port}\"\n",
    "\n",
    "auth = (\n",
    "    os.getenv(\"OPENSEARCH_USER\", \"admin\"),\n",
    "    os.getenv(\"OPENSEARCH_PASSWORD\", \"admin\"),\n",
    ")\n",
    "index_name = os.getenv(\"OPENSEARCH_INDEX_NAME\", \"langchain\")\n",
    "\n",
    "print(f\"Host: {host}, Port: {port}, Auth: {auth}, Index: {index_name}\")\n"
   ]
  },
  {
   "cell_type": "code",
   "execution_count": 2,
   "metadata": {},
   "outputs": [],
   "source": [
    "import sys\n",
    "sys.path.append(\"/Users/pedropacheco/Projects/dev/langchain/libs/community\")\n"
   ]
  },
  {
   "cell_type": "code",
   "execution_count": 3,
   "metadata": {},
   "outputs": [
    {
     "name": "stderr",
     "output_type": "stream",
     "text": [
      "/Users/pedropacheco/Projects/dev/langchain/libs/community/.venv/lib/python3.11/site-packages/tqdm/auto.py:21: TqdmWarning: IProgress not found. Please update jupyter and ipywidgets. See https://ipywidgets.readthedocs.io/en/stable/user_install.html\n",
      "  from .autonotebook import tqdm as notebook_tqdm\n"
     ]
    }
   ],
   "source": [
    "from langchain_community.graph_vectorstores.content_graph import ContentGraph\n"
   ]
  },
  {
   "cell_type": "code",
   "execution_count": null,
   "metadata": {},
   "outputs": [],
   "source": [
    "import pathlib\n",
    "g = ContentGraph(\"Lorem Ipsum\")\n",
    "g.fromPDFDocument(pathlib.Path(\"sample4.pdf\"),output_image_path=\"./images\", reset_graph=True, infer_hierarchy=True)\n",
    "g.graph\n"
   ]
  },
  {
   "cell_type": "code",
   "execution_count": null,
   "metadata": {},
   "outputs": [
    {
     "name": "stderr",
     "output_type": "stream",
     "text": [
      "INFO:httpx:HTTP Request: POST https://api.openai.com/v1/embeddings \"HTTP/1.1 200 OK\"\n",
      "INFO:opensearch:POST https://localhost:9201/langchain_graph_vector_1/_search?size=2 [status:200 request:0.025s]\n"
     ]
    },
    {
     "name": "stdout",
     "output_type": "stream",
     "text": [
      "3579e20ad32d793a8dd28ff5d8023da7 Your Company\n",
      "35ccf72b73f67342fb97284be07e0de1 Product Brochure\n",
      "e6cd9de5667b301da81d1373f90e734c Product Overview\n",
      "002f87c6560b4f412ee064375b00319d Lorem ipsum\n",
      "c20e14a2e6cc3abd9e3794c19db89c4e Lorem ipsum\n",
      "73c2a9d151deb9c8f6b1113cb8faad74 Dolor sit\n",
      "4836a5c73aaa4ee24183d49ebc83390f Details\n"
     ]
    }
   ],
   "source": [
    "result = os_client.similarity_search_by_vector_and_metadata(\"sed diam nonummy nibh euismodtincidunt ut laoreet dolore magna aliquam erat volutpat\", metadata = {\"type\": \"Title\"}, k=2)\n",
    "for doc in results:\n",
    "    print(doc.id, doc.page_content)\n"
   ]
  },
  {
   "cell_type": "code",
   "execution_count": 5,
   "metadata": {},
   "outputs": [
    {
     "name": "stderr",
     "output_type": "stream",
     "text": [
      "/var/folders/hr/bsttdbns4nn9l1g54smlh_mr0000gn/T/ipykernel_28606/3963969764.py:5: LangChainBetaWarning: The class `OpenSearchGraphVectorStore` is in beta. It is actively being worked on, so the API may change.\n",
      "  os_client = OpenSearchGraphVectorStore(\n"
     ]
    }
   ],
   "source": [
    "from langchain_community.graph_vectorstores.opensearch import OpenSearchGraphVectorStore\n",
    "from langchain_openai import OpenAIEmbeddings\n",
    "embedding_model = OpenAIEmbeddings()\n",
    "\n",
    "os_client = OpenSearchGraphVectorStore(\n",
    "    opensearch_url=url,\n",
    "    http_auth=auth,\n",
    "    index_name=index_name,\n",
    "    embedding=embedding_model,\n",
    "    reset_index=False,\n",
    ")\n"
   ]
  },
  {
   "cell_type": "code",
   "execution_count": null,
   "metadata": {},
   "outputs": [],
   "source": [
    "os_client.aadd_content_graph(g)\n"
   ]
  },
  {
   "cell_type": "code",
   "execution_count": 7,
   "metadata": {},
   "outputs": [
    {
     "name": "stderr",
     "output_type": "stream",
     "text": [
      "INFO:httpx:HTTP Request: POST https://api.openai.com/v1/embeddings \"HTTP/1.1 200 OK\"\n",
      "INFO:opensearch:POST https://localhost:9201/langchain_graph_vector_1/_search?size=4 [status:200 request:0.105s]\n"
     ]
    },
    {
     "data": {
      "text/plain": [
       "[Document(id='935fdcf8ba2e601348691f23784106a0', metadata={'type': 'NarrativeText', 'links': {Link(kind='NarrativeText', direction='in', tag='e6cd9de5667b301da81d1373f90e734c')}, 'detection_class_prob': 0.9381677508354187, 'coordinates': {'points': [[197.91666666666666, 762.22021484375], [197.91666666666666, 897.2098526487088], [1442.4452049466554, 897.2098526487088], [1442.4452049466554, 762.22021484375]], 'system': 'PixelSpace', 'layout_width': 1700, 'layout_height': 2200}, 'last_modified': '2024-10-30T08:25:47', 'filetype': 'application/pdf', 'languages': ['eng'], 'page_number': 1, 'parent_id': 'e6cd9de5667b301da81d1373f90e734c', 'filename': 'sample4.pdf'}, page_content='Lorem ipsum dolor sit amet, consectetuer adipiscing elit, sed diam nonummy nibh euismod tincidunt ut laoreet dolore magna aliquam erat volutpat. Ut wisi enim ad minim veniam, quis nostrud exerci tation ullamcorper suscipit lobortis nisl ut aliquip ex ea commodo consequat.'),\n",
       " Document(id='b58ded2c0d09fcd6b1810df1f7cd9423', metadata={'type': 'NarrativeText', 'links': {Link(kind='NarrativeText', direction='in', tag='73c2a9d151deb9c8f6b1113cb8faad74')}, 'detection_class_prob': 0.919620156288147, 'coordinates': {'points': [[197.91666666666666, 1700.6177978515625], [197.91666666666666, 1834.7098526487086], [1442.4452049466554, 1834.7098526487086], [1442.4452049466554, 1700.6177978515625]], 'system': 'PixelSpace', 'layout_width': 1700, 'layout_height': 2200}, 'last_modified': '2024-10-30T08:25:47', 'filetype': 'application/pdf', 'languages': ['eng'], 'page_number': 1, 'parent_id': '73c2a9d151deb9c8f6b1113cb8faad74', 'filename': 'sample4.pdf'}, page_content='Lorem ipsum dolor sit amet, consectetuer adipiscing elit, sed diam nonummy nibh euismod tincidunt ut laoreet dolore magna aliquam erat volutpat. Ut wisi enim ad minim veniam, quis nostrud exerci tation ullamcorper suscipit lobortis nisl ut aliquip ex ea commodo consequat.'),\n",
       " Document(id='441d6021d20dac79ddd32d9e17568dc8', metadata={'type': 'NarrativeText', 'links': {Link(kind='NarrativeText', direction='in', tag='4836a5c73aaa4ee24183d49ebc83390f')}, 'detection_class_prob': 0.9496526122093201, 'coordinates': {'points': [[197.5125274658203, 758.444580078125], [197.5125274658203, 997.2098526487088], [1478.2836073864346, 997.2098526487088], [1478.2836073864346, 758.444580078125]], 'system': 'PixelSpace', 'layout_width': 1700, 'layout_height': 2200}, 'last_modified': '2024-10-30T08:25:47', 'filetype': 'application/pdf', 'languages': ['eng'], 'page_number': 2, 'parent_id': '4836a5c73aaa4ee24183d49ebc83390f', 'filename': 'sample4.pdf'}, page_content='Lorem ipsum dolor sit amet, consectetuer adipiscing elit, sed diam nonummy nibh euismod tincidunt ut laoreet dolore magna aliquam erat volutpat. Ut wisi enim ad minim veniam, quis nostrud exerci tation ullamcorper suscipit lobortis nisl ut aliquip ex ea commodo consequat. Duis autem vel eum iriure dolor in hendrerit in vulputate velit esse molestie consequat, vel illum dolore eu feugiat nulla facilisis at vero eros et accumsan.'),\n",
       " Document(id='bc5e09f692d6cf4ac05d9e6d84ecf9ca', metadata={'type': 'NarrativeText', 'links': {Link(kind='NarrativeText', direction='in', tag='c20e14a2e6cc3abd9e3794c19db89c4e')}, 'detection_class_prob': 0.9415114521980286, 'coordinates': {'points': [[785.4166666666666, 1382.915283203125], [785.4166666666666, 1570.1265193153754], [1451.512451171875, 1570.1265193153754], [1451.512451171875, 1382.915283203125]], 'system': 'PixelSpace', 'layout_width': 1700, 'layout_height': 2200}, 'last_modified': '2024-10-30T08:25:47', 'filetype': 'application/pdf', 'languages': ['eng'], 'page_number': 1, 'parent_id': 'c20e14a2e6cc3abd9e3794c19db89c4e', 'filename': 'sample4.pdf'}, page_content='Duis autem vel eum iriure dolor in hendrerit in vulputate velit esse molestie consequat, vel illum dolore eu feugiat nulla facilisis at vero eros et accumsan.')]"
      ]
     },
     "execution_count": 7,
     "metadata": {},
     "output_type": "execute_result"
    }
   ],
   "source": [
    "os_client.similarity_search(\n",
    "    \"sed diam nonummy nibh euismodtincidunt ut laoreet dolore magna aliquam erat volutpat\"\n",
    ")\n"
   ]
  },
  {
   "cell_type": "code",
   "execution_count": 8,
   "metadata": {},
   "outputs": [
    {
     "name": "stderr",
     "output_type": "stream",
     "text": [
      "INFO:httpx:HTTP Request: POST https://api.openai.com/v1/embeddings \"HTTP/1.1 200 OK\"\n",
      "INFO:opensearch:POST https://localhost:9201/langchain_graph_vector_1/_search [status:200 request:0.029s]\n"
     ]
    },
    {
     "name": "stdout",
     "output_type": "stream",
     "text": [
      "935fdcf8ba2e601348691f23784106a0\n",
      "b58ded2c0d09fcd6b1810df1f7cd9423\n",
      "441d6021d20dac79ddd32d9e17568dc8\n",
      "bc5e09f692d6cf4ac05d9e6d84ecf9ca\n"
     ]
    }
   ],
   "source": [
    "import asyncio\n",
    "\n",
    "async def runner():\n",
    "    async for document in os_client.asimilarity_search(\n",
    "        \"sed diam nonummy nibh euismodtincidunt ut laoreet dolore magna aliquam erat volutpat\"\n",
    "    ):\n",
    "        print(document.id)\n",
    "\n",
    "\n",
    "# Run the function directly if in an interactive environment like Jupyter Notebook\n",
    "await runner()\n"
   ]
  },
  {
   "cell_type": "code",
   "execution_count": 9,
   "metadata": {},
   "outputs": [
    {
     "name": "stderr",
     "output_type": "stream",
     "text": [
      "INFO:httpx:HTTP Request: POST https://api.openai.com/v1/embeddings \"HTTP/1.1 200 OK\"\n",
      "INFO:opensearch:POST https://localhost:9201/langchain_graph_vector_1/_search [status:200 request:0.044s]\n"
     ]
    },
    {
     "data": {
      "text/plain": [
       "[Document(metadata={'type': 'Header', 'links': {Link(kind='Header', direction='in', tag='73c2a9d151deb9c8f6b1113cb8faad74')}, 'detection_class_prob': 0.7280164361000061, 'coordinates': {'points': [[197.3474578857422, 132.3511505126953], [197.3474578857422, 165.83247100000006], [216.63411466666665, 165.83247100000006], [216.63411466666665, 132.3511505126953]], 'system': 'PixelSpace', 'layout_width': 1700, 'layout_height': 2200}, 'last_modified': '2024-10-30T08:25:47', 'filetype': 'application/pdf', 'languages': ['eng'], 'page_number': 2, 'filename': 'sample4.pdf'}, page_content='2'),\n",
       " Document(metadata={'type': 'Title', 'links': {Link(kind='Image', direction='out', tag='b7cdb0075e34409ff9418ff94b025d74'), Link(kind='NarrativeText', direction='out', tag='441d6021d20dac79ddd32d9e17568dc8'), Link(kind='NarrativeText', direction='out', tag='ec4e566681062b3415e6e140502beb8b'), Link(kind='root', direction='in', tag='root')}, 'detection_class_prob': 0.8497406244277954, 'coordinates': {'points': [[191.45082092285156, 270.57830810546875], [191.45082092285156, 332.7415409166668], [378.80419921875, 332.7415409166668], [378.80419921875, 270.57830810546875]], 'system': 'PixelSpace', 'layout_width': 1700, 'layout_height': 2200}, 'last_modified': '2024-10-30T08:25:47', 'filetype': 'application/pdf', 'languages': ['eng'], 'page_number': 2, 'parent_id': 'ae823f07134a0ee9e668bef86d2caa08', 'filename': 'sample4.pdf'}, page_content='Details'),\n",
       " Document(metadata={'type': 'Title', 'links': {Link(kind='NarrativeText', direction='out', tag='c350ce92d1a85844e3195a7f97174afb'), Link(kind='root', direction='in', tag='root'), Link(kind='Image', direction='out', tag='2c3e32aafc4e37c57c9299bb1abe8cf3')}, 'detection_class_prob': 0.8431910276412964, 'coordinates': {'points': [[785.4166666666666, 947.59375], [785.4166666666666, 993.7951360474176], [1044.846333897868, 993.7951360474176], [1044.846333897868, 947.59375]], 'system': 'PixelSpace', 'layout_width': 1700, 'layout_height': 2200}, 'last_modified': '2024-10-30T08:25:47', 'filetype': 'application/pdf', 'languages': ['eng'], 'page_number': 1, 'filename': 'sample4.pdf'}, page_content='Lorem ipsum'),\n",
       " Document(metadata={'type': 'Title', 'links': {Link(kind='NarrativeText', direction='out', tag='bc5e09f692d6cf4ac05d9e6d84ecf9ca'), Link(kind='root', direction='in', tag='root')}, 'detection_class_prob': 0.8070773482322693, 'coordinates': {'points': [[784.7552490234375, 1314.323974609375], [784.7552490234375, 1349.1657974583334], [981.9907836914062, 1349.1657974583334], [981.9907836914062, 1314.323974609375]], 'system': 'PixelSpace', 'layout_width': 1700, 'layout_height': 2200}, 'last_modified': '2024-10-30T08:25:47', 'filetype': 'application/pdf', 'languages': ['eng'], 'page_number': 1, 'filename': 'sample4.pdf'}, page_content='Lorem ipsum'),\n",
       " Document(metadata={'type': 'Title', 'links': {Link(kind='NarrativeText', direction='out', tag='935fdcf8ba2e601348691f23784106a0'), Link(kind='root', direction='in', tag='root')}, 'detection_class_prob': 0.8636806607246399, 'coordinates': {'points': [[197.91666666666666, 666.4296875], [197.91666666666666, 728.5748742500001], [653.0220947265625, 728.5748742500001], [653.0220947265625, 666.4296875]], 'system': 'PixelSpace', 'layout_width': 1700, 'layout_height': 2200}, 'last_modified': '2024-10-30T08:25:47', 'filetype': 'application/pdf', 'languages': ['eng'], 'page_number': 1, 'filename': 'sample4.pdf'}, page_content='Product Overview'),\n",
       " Document(metadata={'type': 'NarrativeText', 'links': {Link(kind='NarrativeText', direction='in', tag='35ccf72b73f67342fb97284be07e0de1')}, 'detection_class_prob': 0.6961358189582825, 'coordinates': {'points': [[197.91666666666666, 541.7613525390625], [197.91666666666666, 577.070965044542], [477.94036865234375, 577.070965044542], [477.94036865234375, 541.7613525390625]], 'system': 'PixelSpace', 'layout_width': 1700, 'layout_height': 2200}, 'last_modified': '2024-10-30T08:25:47', 'filetype': 'application/pdf', 'languages': ['eng'], 'page_number': 1, 'parent_id': '35ccf72b73f67342fb97284be07e0de1', 'filename': 'sample4.pdf'}, page_content='September 04, 20XX'),\n",
       " Document(metadata={'type': 'NarrativeText', 'links': {Link(kind='NarrativeText', direction='in', tag='4836a5c73aaa4ee24183d49ebc83390f')}, 'detection_class_prob': 0.9483880400657654, 'coordinates': {'points': [[195.46530151367188, 367.3487421278755], [195.46530151367188, 709.7098526487088], [1489.069621816406, 709.7098526487088], [1489.069621816406, 367.3487421278755]], 'system': 'PixelSpace', 'layout_width': 1700, 'layout_height': 2200}, 'last_modified': '2024-10-30T08:25:47', 'filetype': 'application/pdf', 'languages': ['eng'], 'page_number': 2, 'parent_id': '4836a5c73aaa4ee24183d49ebc83390f', 'filename': 'sample4.pdf'}, page_content='Nam liber tempor cum soluta nobis eleifend option congue nihil imperdiet doming id quod mazim placerat facer possim assum. Typi non habent claritatem insitam; est usus legentis in iis qui facit eorum claritatem. Investigationes demonstraverunt lectores legere me lius quod ii legunt saepius. Lorem ipsum dolor sit amet, consectetuer adipiscing elit, sed diam nonummy nibh euismod tincidunt ut laoreet dolore magna aliquam erat volutpat. Ut wisi enim ad minim veniam, quis nostrud exerci tation ullamcorper suscipit lobortis nisl ut aliquip ex ea commodo consequat.'),\n",
       " Document(metadata={'type': 'Title', 'links': {Link(kind='NarrativeText', direction='out', tag='b58ded2c0d09fcd6b1810df1f7cd9423'), Link(kind='Image', direction='out', tag='0c6140c07f5c2e92399007e8c762c4cb'), Link(kind='Image', direction='out', tag='b5906a2b13ee1bbfb62f054bd10f61f2'), Link(kind='Header', direction='out', tag='ae823f07134a0ee9e668bef86d2caa08'), Link(kind='root', direction='in', tag='root')}, 'detection_class_prob': 0.8328120112419128, 'coordinates': {'points': [[194.70135498046875, 1617.95751953125], [194.70135498046875, 1666.7118027140841], [365.1525573730469, 1666.7118027140841], [365.1525573730469, 1617.95751953125]], 'system': 'PixelSpace', 'layout_width': 1700, 'layout_height': 2200}, 'last_modified': '2024-10-30T08:25:47', 'filetype': 'application/pdf', 'languages': ['eng'], 'page_number': 1, 'filename': 'sample4.pdf'}, page_content='Dolor sit'),\n",
       " Document(metadata={'file_date': '2024-10-31T09:15:51.503312', 'links': {Link(kind='Title', direction='out', tag='35ccf72b73f67342fb97284be07e0de1'), Link(kind='Title', direction='out', tag='3579e20ad32d793a8dd28ff5d8023da7'), Link(kind='Title', direction='out', tag='e6cd9de5667b301da81d1373f90e734c'), Link(kind='Title', direction='out', tag='73c2a9d151deb9c8f6b1113cb8faad74'), Link(kind='Title', direction='out', tag='c20e14a2e6cc3abd9e3794c19db89c4e'), Link(kind='Image', direction='out', tag='8a137031615c0f20b771cfe3956d57f8'), Link(kind='Title', direction='out', tag='4836a5c73aaa4ee24183d49ebc83390f'), Link(kind='Title', direction='out', tag='002f87c6560b4f412ee064375b00319d')}}, page_content='sample4.pdf'),\n",
       " Document(metadata={'type': 'Title', 'links': {Link(kind='NarrativeText', direction='out', tag='39324654c968eb3357caf516e5f7f294'), Link(kind='root', direction='in', tag='root')}, 'detection_class_prob': 0.6584489345550537, 'coordinates': {'points': [[195.39285278320312, 411.7275085449219], [195.39285278320312, 513.0299504884981], [937.9750366210938, 513.0299504884981], [937.9750366210938, 411.7275085449219]], 'system': 'PixelSpace', 'layout_width': 1700, 'layout_height': 2200}, 'last_modified': '2024-10-30T08:25:47', 'filetype': 'application/pdf', 'languages': ['eng'], 'page_number': 1, 'filename': 'sample4.pdf'}, page_content='Product Brochure')]"
      ]
     },
     "execution_count": 9,
     "metadata": {},
     "output_type": "execute_result"
    }
   ],
   "source": [
    "os_client.get_documents(k=10)\n"
   ]
  },
  {
   "cell_type": "code",
   "execution_count": 10,
   "metadata": {},
   "outputs": [
    {
     "name": "stderr",
     "output_type": "stream",
     "text": [
      "INFO:opensearch:GET https://localhost:9201/langchain_graph_vector_1/_doc/bc5e09f692d6cf4ac05d9e6d84ecf9ca [status:200 request:0.025s]\n"
     ]
    },
    {
     "data": {
      "text/plain": [
       "'Duis autem vel eum iriure dolor in hendrerit in vulputate velit esse molestie consequat, vel illum dolore eu feugiat nulla facilisis at vero eros et accumsan.'"
      ]
     },
     "execution_count": 10,
     "metadata": {},
     "output_type": "execute_result"
    }
   ],
   "source": [
    "doc = os_client.search_by_id(\"bc5e09f692d6cf4ac05d9e6d84ecf9ca\")\n",
    "doc.page_content\n"
   ]
  },
  {
   "cell_type": "code",
   "execution_count": 11,
   "metadata": {},
   "outputs": [
    {
     "name": "stderr",
     "output_type": "stream",
     "text": [
      "INFO:opensearch:GET https://localhost:9201/langchain_graph_vector_1/_doc/bc5e09f692d6cf4ac05d9e6d84ecf9ca [status:200 request:0.044s]\n"
     ]
    },
    {
     "name": "stdout",
     "output_type": "stream",
     "text": [
      "Duis autem vel eum iriure dolor in hendrerit in vulputate velit esse molestie consequat, vel illum dolore eu feugiat nulla facilisis at vero eros et accumsan.\n"
     ]
    }
   ],
   "source": [
    "import asyncio\n",
    "\n",
    "\n",
    "async def runner():\n",
    "    doc = await os_client.asearch_by_id(\"bc5e09f692d6cf4ac05d9e6d84ecf9ca\")\n",
    "    print(doc.page_content)\n",
    "\n",
    "\n",
    "# Run the function directly if in an interactive environment like Jupyter Notebook\n",
    "await runner()\n"
   ]
  },
  {
   "cell_type": "markdown",
   "metadata": {},
   "source": [
    "{\n",
    "  \"took\": 12,\n",
    "  \"timed_out\": false,\n",
    "  \"_shards\": {\n",
    "    \"total\": 3,\n",
    "    \"successful\": 3,\n",
    "    \"skipped\": 0,\n",
    "    \"failed\": 0\n",
    "  },\n",
    "  \"hits\": {\n",
    "    \"total\": {\n",
    "      \"value\": 100,\n",
    "      \"relation\": \"eq\"\n",
    "    },\n",
    "    \"max_score\": 1.0,\n",
    "    \"hits\": [\n",
    "      {\n",
    "        \"_index\": \"your_index_name\",\n",
    "        \"_type\": \"_doc\",\n",
    "        \"_id\": \"1\",\n",
    "        \"_score\": 1.0,\n",
    "        \"_source\": {\n",
    "          \"field1\": \"value1\",\n",
    "          \"field2\": \"value2\",\n",
    "          \"metadata\": { ... }\n",
    "        }\n",
    "      },\n",
    "      {\n",
    "        \"_index\": \"your_index_name\",\n",
    "        \"_type\": \"_doc\",\n",
    "        \"_id\": \"2\",\n",
    "        \"_score\": 0.9,\n",
    "        \"_source\": {\n",
    "          \"field1\": \"value3\",\n",
    "          \"field2\": \"value4\",\n",
    "          \"metadata\": { ... }\n",
    "        }\n",
    "      }\n",
    "      // Additional hits...\n",
    "    ]\n",
    "  }\n",
    "}"
   ]
  },
  {
   "cell_type": "code",
   "execution_count": 12,
   "metadata": {},
   "outputs": [
    {
     "name": "stderr",
     "output_type": "stream",
     "text": [
      "INFO:opensearch:POST https://localhost:9201/langchain_graph_vector_1/_search?size=20 [status:200 request:0.052s]\n"
     ]
    },
    {
     "name": "stdout",
     "output_type": "stream",
     "text": [
      "3579e20ad32d793a8dd28ff5d8023da7\n",
      "35ccf72b73f67342fb97284be07e0de1\n",
      "e6cd9de5667b301da81d1373f90e734c\n",
      "002f87c6560b4f412ee064375b00319d\n",
      "c20e14a2e6cc3abd9e3794c19db89c4e\n",
      "73c2a9d151deb9c8f6b1113cb8faad74\n",
      "4836a5c73aaa4ee24183d49ebc83390f\n"
     ]
    }
   ],
   "source": [
    "search_criteria = {\"type\": \"Title\"}\n",
    "results = os_client.search_by_metadata(search_criteria, k=20)\n",
    "for doc in results:\n",
    "    print(doc.id)\n"
   ]
  },
  {
   "cell_type": "code",
   "execution_count": 13,
   "metadata": {},
   "outputs": [
    {
     "name": "stderr",
     "output_type": "stream",
     "text": [
      "INFO:opensearch:POST https://localhost:9201/langchain_graph_vector_1/_search?size=5 [status:200 request:0.051s]\n"
     ]
    },
    {
     "name": "stdout",
     "output_type": "stream",
     "text": [
      "8a137031615c0f20b771cfe3956d57f8\n",
      "2c3e32aafc4e37c57c9299bb1abe8cf3\n",
      "0c6140c07f5c2e92399007e8c762c4cb\n",
      "b5906a2b13ee1bbfb62f054bd10f61f2\n",
      "b7cdb0075e34409ff9418ff94b025d74\n"
     ]
    }
   ],
   "source": [
    "import asyncio\n",
    "\n",
    "async def runner():\n",
    "    metadata = {\"type\": \"Image\"}\n",
    "    async for document in os_client.asearch_by_metadata(metadata=metadata, k=5):\n",
    "        print(document.id)\n",
    "\n",
    "# Run the function directly if in an interactive environment like Jupyter Notebook\n",
    "await runner()\n"
   ]
  },
  {
   "cell_type": "code",
   "execution_count": 14,
   "metadata": {},
   "outputs": [
    {
     "name": "stderr",
     "output_type": "stream",
     "text": [
      "INFO:httpx:HTTP Request: POST https://api.openai.com/v1/embeddings \"HTTP/1.1 200 OK\"\n",
      "INFO:opensearch:POST https://localhost:9201/langchain_graph_vector_1/_search?size=2 [status:200 request:0.025s]\n"
     ]
    },
    {
     "name": "stdout",
     "output_type": "stream",
     "text": [
      "3579e20ad32d793a8dd28ff5d8023da7 Your Company\n",
      "35ccf72b73f67342fb97284be07e0de1 Product Brochure\n",
      "e6cd9de5667b301da81d1373f90e734c Product Overview\n",
      "002f87c6560b4f412ee064375b00319d Lorem ipsum\n",
      "c20e14a2e6cc3abd9e3794c19db89c4e Lorem ipsum\n",
      "73c2a9d151deb9c8f6b1113cb8faad74 Dolor sit\n",
      "4836a5c73aaa4ee24183d49ebc83390f Details\n"
     ]
    }
   ],
   "source": [
    "result = os_client.similarity_search_by_vector_and_metadata(\"sed diam nonummy nibh euismodtincidunt ut laoreet dolore magna aliquam erat volutpat\", metadata = {\"type\": \"Title\"}, k=2)\n",
    "for doc in results:\n",
    "    print(doc.id, doc.page_content)\n"
   ]
  },
  {
   "cell_type": "code",
   "execution_count": 15,
   "metadata": {},
   "outputs": [
    {
     "name": "stderr",
     "output_type": "stream",
     "text": [
      "INFO:httpx:HTTP Request: POST https://api.openai.com/v1/embeddings \"HTTP/1.1 200 OK\"\n",
      "INFO:opensearch:POST https://localhost:9201/langchain_graph_vector_1/_search?size=4 [status:200 request:0.016s]\n"
     ]
    },
    {
     "name": "stdout",
     "output_type": "stream",
     "text": [
      "page_content='Lorem ipsum dolor sit amet, consectetuer adipiscing elit, sed diam nonummy nibh euismod tincidunt ut laoreet dolore magna aliquam erat volutpat. Ut wisi enim ad minim veniam, quis nostrud exerci tation ullamcorper suscipit lobortis nisl ut aliquip ex ea commodo consequat.' metadata={'type': 'NarrativeText', 'links': {Link(kind='NarrativeText', direction='in', tag='e6cd9de5667b301da81d1373f90e734c')}, 'detection_class_prob': 0.9381677508354187, 'coordinates': {'points': [[197.91666666666666, 762.22021484375], [197.91666666666666, 897.2098526487088], [1442.4452049466554, 897.2098526487088], [1442.4452049466554, 762.22021484375]], 'system': 'PixelSpace', 'layout_width': 1700, 'layout_height': 2200}, 'last_modified': '2024-10-30T08:25:47', 'filetype': 'application/pdf', 'languages': ['eng'], 'page_number': 1, 'parent_id': 'e6cd9de5667b301da81d1373f90e734c', 'filename': 'sample4.pdf'}\n",
      "page_content='Lorem ipsum dolor sit amet, consectetuer adipiscing elit, sed diam nonummy nibh euismod tincidunt ut laoreet dolore magna aliquam erat volutpat. Ut wisi enim ad minim veniam, quis nostrud exerci tation ullamcorper suscipit lobortis nisl ut aliquip ex ea commodo consequat.' metadata={'type': 'NarrativeText', 'links': {Link(kind='NarrativeText', direction='in', tag='73c2a9d151deb9c8f6b1113cb8faad74')}, 'detection_class_prob': 0.919620156288147, 'coordinates': {'points': [[197.91666666666666, 1700.6177978515625], [197.91666666666666, 1834.7098526487086], [1442.4452049466554, 1834.7098526487086], [1442.4452049466554, 1700.6177978515625]], 'system': 'PixelSpace', 'layout_width': 1700, 'layout_height': 2200}, 'last_modified': '2024-10-30T08:25:47', 'filetype': 'application/pdf', 'languages': ['eng'], 'page_number': 1, 'parent_id': '73c2a9d151deb9c8f6b1113cb8faad74', 'filename': 'sample4.pdf'}\n",
      "page_content='Lorem ipsum dolor sit amet, consectetuer adipiscing elit, sed diam nonummy nibh euismod tincidunt ut laoreet dolore magna aliquam erat volutpat. Ut wisi enim ad minim veniam, quis nostrud exerci tation ullamcorper suscipit lobortis nisl ut aliquip ex ea commodo consequat. Duis autem vel eum iriure dolor in hendrerit in vulputate velit esse molestie consequat, vel illum dolore eu feugiat nulla facilisis at vero eros et accumsan.' metadata={'type': 'NarrativeText', 'links': {Link(kind='NarrativeText', direction='in', tag='4836a5c73aaa4ee24183d49ebc83390f')}, 'detection_class_prob': 0.9496526122093201, 'coordinates': {'points': [[197.5125274658203, 758.444580078125], [197.5125274658203, 997.2098526487088], [1478.2836073864346, 997.2098526487088], [1478.2836073864346, 758.444580078125]], 'system': 'PixelSpace', 'layout_width': 1700, 'layout_height': 2200}, 'last_modified': '2024-10-30T08:25:47', 'filetype': 'application/pdf', 'languages': ['eng'], 'page_number': 2, 'parent_id': '4836a5c73aaa4ee24183d49ebc83390f', 'filename': 'sample4.pdf'}\n",
      "page_content='Duis autem vel eum iriure dolor in hendrerit in vulputate velit esse molestie consequat, vel illum dolore eu feugiat nulla facilisis at vero eros et accumsan.' metadata={'type': 'NarrativeText', 'links': {Link(kind='NarrativeText', direction='in', tag='c20e14a2e6cc3abd9e3794c19db89c4e')}, 'detection_class_prob': 0.9415114521980286, 'coordinates': {'points': [[785.4166666666666, 1382.915283203125], [785.4166666666666, 1570.1265193153754], [1451.512451171875, 1570.1265193153754], [1451.512451171875, 1382.915283203125]], 'system': 'PixelSpace', 'layout_width': 1700, 'layout_height': 2200}, 'last_modified': '2024-10-30T08:25:47', 'filetype': 'application/pdf', 'languages': ['eng'], 'page_number': 1, 'parent_id': 'c20e14a2e6cc3abd9e3794c19db89c4e', 'filename': 'sample4.pdf'}\n",
      "935fdcf8ba2e601348691f23784106a0\n",
      "b58ded2c0d09fcd6b1810df1f7cd9423\n",
      "441d6021d20dac79ddd32d9e17568dc8\n",
      "bc5e09f692d6cf4ac05d9e6d84ecf9ca\n"
     ]
    }
   ],
   "source": [
    "result = os_client.traversal_search(\n",
    "    \"sed diam nonummy nibh euismodtincidunt ut laoreet dolore magna aliquam erat volutpat\"\n",
    ")\n",
    "\n",
    "for doc in result:\n",
    "    print(doc.id)"
   ]
  }
 ],
 "metadata": {
  "kernelspec": {
   "display_name": ".venv",
   "language": "python",
   "name": "python3"
  },
  "language_info": {
   "codemirror_mode": {
    "name": "ipython",
    "version": 3
   },
   "file_extension": ".py",
   "mimetype": "text/x-python",
   "name": "python",
   "nbconvert_exporter": "python",
   "pygments_lexer": "ipython3",
   "version": "3.11.10"
  }
 },
 "nbformat": 4,
 "nbformat_minor": 2
}
